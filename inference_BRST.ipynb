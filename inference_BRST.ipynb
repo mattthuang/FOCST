{
 "cells": [
  {
   "cell_type": "code",
   "execution_count": 19,
   "metadata": {
    "executionInfo": {
     "elapsed": 12466,
     "status": "ok",
     "timestamp": 1714693181686,
     "user": {
      "displayName": "Matthew Huang",
      "userId": "00816537668649802899"
     },
     "user_tz": 240
    },
    "id": "2iQXBadKPASk"
   },
   "outputs": [],
   "source": [
    "import torch\n",
    "import torch.nn.functional as F\n",
    "from tqdm import tqdm\n",
    "import matplotlib.pyplot as plt\n",
    "\n",
    "import config as CFG\n",
    "from models import *\n",
    "from dataset import *\n",
    "import scanpy as sc\n",
    "from torch.utils.data import DataLoader\n",
    "\n",
    "import os\n",
    "import numpy as np\n",
    "import pandas as pd\n",
    "\n",
    "import scanpy as sc\n",
    "from itertools import chain"
   ]
  },
  {
   "cell_type": "code",
   "execution_count": 20,
   "metadata": {},
   "outputs": [],
   "source": [
    "current_device = 3\n",
    "torch.cuda.set_device(current_device)\n",
    "torch.set_num_threads(28)"
   ]
  },
  {
   "cell_type": "code",
   "execution_count": 21,
   "metadata": {},
   "outputs": [
    {
     "name": "stdout",
     "output_type": "stream",
     "text": [
      "/data/lab_ph/matt\n"
     ]
    }
   ],
   "source": [
    "os.chdir('/data/lab_ph/matt')\n",
    "!pwd"
   ]
  },
  {
   "cell_type": "code",
   "execution_count": 22,
   "metadata": {
    "colab": {
     "base_uri": "https://localhost:8080/"
    },
    "executionInfo": {
     "elapsed": 6,
     "status": "ok",
     "timestamp": 1714693181687,
     "user": {
      "displayName": "Matthew Huang",
      "userId": "00816537668649802899"
     },
     "user_tz": 240
    },
    "id": "UzjYjKhUPASn",
    "outputId": "f4d5d268-3718-4505-c016-7df1b6a3f6a6"
   },
   "outputs": [
    {
     "name": "stdout",
     "output_type": "stream",
     "text": [
      "1.9.6\n"
     ]
    }
   ],
   "source": [
    "#print the current scanpy version\n",
    "print(sc.__version__)"
   ]
  },
  {
   "cell_type": "code",
   "execution_count": 23,
   "metadata": {
    "executionInfo": {
     "elapsed": 4,
     "status": "ok",
     "timestamp": 1714693181687,
     "user": {
      "displayName": "Matthew Huang",
      "userId": "00816537668649802899"
     },
     "user_tz": 240
    },
    "id": "IrQ2Z4A7PASo"
   },
   "outputs": [],
   "source": [
    "fold=5\n",
    "data='her2st' #### Change here to test different dataset 'her2st' 'cscc'\n",
    "\n",
    "prune='Grid' if data=='her2st' else 'NA'\n",
    "genes=785 if data=='cscc' else 6073\n",
    "\n",
    "def pk_load(fold,mode='test',flatten=False,dataset='brst',r=4,ori=True,adj=True,prune='Grid',neighs=8): #r=4 Hist2ST\n",
    "    assert dataset in ['her2st','cscc', 'brst']\n",
    "    if dataset=='her2st':\n",
    "        dataset = CLIP_HER2ST(\n",
    "            train=(mode=='train'),fold=fold,flatten=flatten,\n",
    "            ori=ori,neighs=neighs,adj=adj,prune=prune,r=r\n",
    "        )\n",
    "    elif dataset=='cscc':\n",
    "        dataset = CLIP_SKIN(\n",
    "            train=(mode=='train'),fold=fold,flatten=flatten,\n",
    "            ori=ori,neighs=neighs,adj=adj,prune=prune,r=r\n",
    "        )\n",
    "\n",
    "    elif dataset == 'brst':\n",
    "        dataset = BRST(train=(mode=='train'),fold=fold,flatten=flatten,\n",
    "            ori=ori,neighs=neighs,adj=adj,prune=prune,r=r\n",
    "        )\n",
    "    return dataset\n",
    "\n",
    "def build_loaders_inference():\n",
    "    print(\"Building loaders\")\n",
    "    trainset = pk_load(fold,'train',dataset=data,flatten=False,adj=True,ori=True,prune=prune)\n",
    "    train_loader = DataLoader(trainset, batch_size=1, num_workers=0, shuffle=True)\n",
    "    testset = pk_load(fold,'test',dataset=data,flatten=False,adj=True,ori=True,prune=prune)\n",
    "    test_loader = DataLoader(testset, batch_size=1, num_workers=0, shuffle=False)\n",
    "    print(\"Finished building loaders\")\n",
    "    return trainset, testset, train_loader, test_loader\n",
    "\n",
    "#2265x256, 2277x256\n",
    "def find_matches(spot_embeddings, query_embeddings, top_k=1):\n",
    "    #find the closest matches\n",
    "    spot_embeddings = torch.tensor(spot_embeddings)\n",
    "    query_embeddings = torch.tensor(query_embeddings)\n",
    "    query_embeddings = F.normalize(query_embeddings, p=2, dim=-1)\n",
    "    spot_embeddings = F.normalize(spot_embeddings, p=2, dim=-1)\n",
    "    dot_similarity = query_embeddings @ spot_embeddings.T   #2277x2265\n",
    "    print(\"dot_similarity.shape = spots * reference_spots = \",dot_similarity.shape)\n",
    "    _, indices = torch.topk(dot_similarity.squeeze(0), k=top_k)\n",
    "\n",
    "    return indices.cpu().numpy()"
   ]
  },
  {
   "cell_type": "code",
   "execution_count": 24,
   "metadata": {
    "colab": {
     "base_uri": "https://localhost:8080/"
    },
    "executionInfo": {
     "elapsed": 242611,
     "status": "ok",
     "timestamp": 1714693424295,
     "user": {
      "displayName": "Matthew Huang",
      "userId": "00816537668649802899"
     },
     "user_tz": 240
    },
    "id": "8sbjwXLfPASo",
    "outputId": "a8f2e307-433e-4276-fea6-16070d5aa7b6"
   },
   "outputs": [
    {
     "name": "stdout",
     "output_type": "stream",
     "text": [
      "Building loaders\n",
      "Test set names: ['A1', 'B1', 'C1', 'D1', 'E1', 'F1', 'G2', 'H1']\n",
      "Train set names: ['B2', 'A6', 'D5', 'C2', 'F2', 'C4', 'D6', 'C5', 'B3', 'C3', 'D3', 'B6', 'E3', 'H3', 'E2', 'D4', 'G3', 'D2', 'B4', 'A5', 'A4', 'H2', 'G1', 'F3', 'A2', 'C6', 'A3', 'B5']\n",
      "Loading imgs...\n",
      "Loading metadata...\n",
      "Test set names: ['A1', 'B1', 'C1', 'D1', 'E1', 'F1', 'G2', 'H1']\n",
      "Train set names: ['B2', 'A6', 'D5', 'C2', 'F2', 'C4', 'D6', 'C5', 'B3', 'C3', 'D3', 'B6', 'E3', 'H3', 'E2', 'D4', 'G3', 'D2', 'B4', 'A5', 'A4', 'H2', 'G1', 'F3', 'A2', 'C6', 'A3', 'B5']\n",
      "Loading imgs...\n",
      "Loading metadata...\n",
      "Finished building loaders\n",
      "Finished loading data\n"
     ]
    }
   ],
   "source": [
    "### Loading data\n",
    "\n",
    "trainset, testset, train_loader, test_loader = build_loaders_inference()\n",
    "train_loader = chain(train_loader, test_loader)\n",
    "\n",
    "\n",
    "print(\"Finished loading data\")"
   ]
  },
  {
   "cell_type": "code",
   "execution_count": 25,
   "metadata": {
    "colab": {
     "base_uri": "https://localhost:8080/"
    },
    "executionInfo": {
     "elapsed": 5529,
     "status": "ok",
     "timestamp": 1714693496823,
     "user": {
      "displayName": "Matthew Huang",
      "userId": "00816537668649802899"
     },
     "user_tz": 240
    },
    "id": "Kjp8_uRkPASp",
    "outputId": "94cde872-9c80-4621-c2e3-8681b92f3d37"
   },
   "outputs": [
    {
     "name": "stdout",
     "output_type": "stream",
     "text": [
      "Finished loading model\n"
     ]
    }
   ],
   "source": [
    "\n",
    "# model_path =\"clip/best.pt\"\n",
    "if data =='her2st':\n",
    "    model_path =\"/data/lab_ph/matt/clip/SGCL2ST_152.pt\"\n",
    "    save_path = \"SGCL2ST/clip/embeddings/her2st/\"\n",
    "if data =='cscc':\n",
    "    model_path =\"SGCL2ST/clip/SGCL2ST_SKIN.pt\"\n",
    "    save_path = \"SGCL2ST/clip/embeddings/cscc/\"\n",
    "if data=='brst':\n",
    "    model_path = \"/data/lab_ph/matt/SGCL2ST/clip/bleep_brst_best.pt\"\n",
    "    save_path = \"SGCL2ST/clip/embeddings/brst/\"\n",
    "\n",
    "model = myModel().cuda()\n",
    "\n",
    "state_dict = torch.load(model_path)\n",
    "new_state_dict = {}\n",
    "for key in state_dict.keys():\n",
    "    new_key = key.replace('module.', '')  # remove the prefix 'module.'\n",
    "    new_key = new_key.replace('well', 'spot') # for compatibility with prior naming\n",
    "    if \"image_encoder.gnn\" in new_key: # Special to GNN because GNN use torch_geometric.nn\n",
    "        new_key = new_key.replace(\"module_1.\",\"module_1.module.\")\n",
    "    new_state_dict[new_key] = state_dict[key]\n",
    "\n",
    "model.load_state_dict(new_state_dict)\n",
    "model.eval()\n",
    "\n",
    "print(\"Finished loading model\")"
   ]
  },
  {
   "cell_type": "code",
   "execution_count": 26,
   "metadata": {
    "colab": {
     "base_uri": "https://localhost:8080/"
    },
    "executionInfo": {
     "elapsed": 6957,
     "status": "ok",
     "timestamp": 1714693506897,
     "user": {
      "displayName": "Matthew Huang",
      "userId": "00816537668649802899"
     },
     "user_tz": 240
    },
    "id": "2Vu2CmSsPASp",
    "outputId": "a52b76ef-79c8-42dd-fa7f-186a56cf2a6c"
   },
   "outputs": [
    {
     "name": "stderr",
     "output_type": "stream",
     "text": [
      "0it [00:00, ?it/s]"
     ]
    },
    {
     "name": "stdout",
     "output_type": "stream",
     "text": [
      "Processing image  ('H3',)\n"
     ]
    },
    {
     "name": "stderr",
     "output_type": "stream",
     "text": [
      "1it [00:04,  4.80s/it]"
     ]
    },
    {
     "name": "stdout",
     "output_type": "stream",
     "text": [
      "Processing image  ('A4',)\n"
     ]
    },
    {
     "name": "stderr",
     "output_type": "stream",
     "text": [
      "2it [00:07,  3.83s/it]"
     ]
    },
    {
     "name": "stdout",
     "output_type": "stream",
     "text": [
      "Processing image  ('G1',)\n"
     ]
    },
    {
     "name": "stderr",
     "output_type": "stream",
     "text": [
      "3it [00:11,  3.91s/it]"
     ]
    },
    {
     "name": "stdout",
     "output_type": "stream",
     "text": [
      "Processing image  ('D4',)\n"
     ]
    },
    {
     "name": "stderr",
     "output_type": "stream",
     "text": [
      "4it [00:14,  3.48s/it]"
     ]
    },
    {
     "name": "stdout",
     "output_type": "stream",
     "text": [
      "Processing image  ('C6',)\n"
     ]
    },
    {
     "name": "stderr",
     "output_type": "stream",
     "text": [
      "5it [00:16,  2.87s/it]"
     ]
    },
    {
     "name": "stdout",
     "output_type": "stream",
     "text": [
      "Processing image  ('B2',)\n"
     ]
    },
    {
     "name": "stderr",
     "output_type": "stream",
     "text": [
      "6it [00:19,  2.84s/it]"
     ]
    },
    {
     "name": "stdout",
     "output_type": "stream",
     "text": [
      "Processing image  ('D2',)\n"
     ]
    },
    {
     "name": "stderr",
     "output_type": "stream",
     "text": [
      "7it [00:22,  2.92s/it]"
     ]
    },
    {
     "name": "stdout",
     "output_type": "stream",
     "text": [
      "Processing image  ('A2',)\n"
     ]
    },
    {
     "name": "stderr",
     "output_type": "stream",
     "text": [
      "8it [00:25,  3.01s/it]"
     ]
    },
    {
     "name": "stdout",
     "output_type": "stream",
     "text": [
      "Processing image  ('C2',)\n"
     ]
    },
    {
     "name": "stderr",
     "output_type": "stream",
     "text": [
      "9it [00:27,  2.67s/it]"
     ]
    },
    {
     "name": "stdout",
     "output_type": "stream",
     "text": [
      "Processing image  ('B4',)\n"
     ]
    },
    {
     "name": "stderr",
     "output_type": "stream",
     "text": [
      "10it [00:30,  2.71s/it]"
     ]
    },
    {
     "name": "stdout",
     "output_type": "stream",
     "text": [
      "Processing image  ('C3',)\n"
     ]
    },
    {
     "name": "stderr",
     "output_type": "stream",
     "text": [
      "11it [00:32,  2.41s/it]"
     ]
    },
    {
     "name": "stdout",
     "output_type": "stream",
     "text": [
      "Processing image  ('A6',)\n"
     ]
    },
    {
     "name": "stderr",
     "output_type": "stream",
     "text": [
      "12it [00:35,  2.63s/it]"
     ]
    },
    {
     "name": "stdout",
     "output_type": "stream",
     "text": [
      "Processing image  ('F3',)\n"
     ]
    },
    {
     "name": "stderr",
     "output_type": "stream",
     "text": [
      "13it [00:41,  3.72s/it]"
     ]
    },
    {
     "name": "stdout",
     "output_type": "stream",
     "text": [
      "Processing image  ('C5',)\n"
     ]
    },
    {
     "name": "stderr",
     "output_type": "stream",
     "text": [
      "14it [00:43,  3.11s/it]"
     ]
    },
    {
     "name": "stdout",
     "output_type": "stream",
     "text": [
      "Processing image  ('E3',)\n"
     ]
    },
    {
     "name": "stderr",
     "output_type": "stream",
     "text": [
      "15it [00:48,  3.65s/it]"
     ]
    },
    {
     "name": "stdout",
     "output_type": "stream",
     "text": [
      "Processing image  ('A3',)\n"
     ]
    },
    {
     "name": "stderr",
     "output_type": "stream",
     "text": [
      "16it [00:51,  3.49s/it]"
     ]
    },
    {
     "name": "stdout",
     "output_type": "stream",
     "text": [
      "Processing image  ('B3',)\n"
     ]
    },
    {
     "name": "stderr",
     "output_type": "stream",
     "text": [
      "17it [00:53,  3.24s/it]"
     ]
    },
    {
     "name": "stdout",
     "output_type": "stream",
     "text": [
      "Processing image  ('E2',)\n"
     ]
    },
    {
     "name": "stderr",
     "output_type": "stream",
     "text": [
      "18it [00:59,  3.88s/it]"
     ]
    },
    {
     "name": "stdout",
     "output_type": "stream",
     "text": [
      "Processing image  ('D5',)\n"
     ]
    },
    {
     "name": "stderr",
     "output_type": "stream",
     "text": [
      "19it [01:01,  3.54s/it]"
     ]
    },
    {
     "name": "stdout",
     "output_type": "stream",
     "text": [
      "Processing image  ('C4',)\n"
     ]
    },
    {
     "name": "stderr",
     "output_type": "stream",
     "text": [
      "20it [01:03,  3.02s/it]"
     ]
    },
    {
     "name": "stdout",
     "output_type": "stream",
     "text": [
      "Processing image  ('A5',)\n"
     ]
    },
    {
     "name": "stderr",
     "output_type": "stream",
     "text": [
      "21it [01:06,  3.00s/it]"
     ]
    },
    {
     "name": "stdout",
     "output_type": "stream",
     "text": [
      "Processing image  ('B5',)\n"
     ]
    },
    {
     "name": "stderr",
     "output_type": "stream",
     "text": [
      "22it [01:09,  3.00s/it]"
     ]
    },
    {
     "name": "stdout",
     "output_type": "stream",
     "text": [
      "Processing image  ('H2',)\n"
     ]
    },
    {
     "name": "stderr",
     "output_type": "stream",
     "text": [
      "23it [01:15,  3.94s/it]"
     ]
    },
    {
     "name": "stdout",
     "output_type": "stream",
     "text": [
      "Processing image  ('B6',)\n"
     ]
    },
    {
     "name": "stderr",
     "output_type": "stream",
     "text": [
      "24it [01:18,  3.52s/it]"
     ]
    },
    {
     "name": "stdout",
     "output_type": "stream",
     "text": [
      "Processing image  ('D3',)\n"
     ]
    },
    {
     "name": "stderr",
     "output_type": "stream",
     "text": [
      "25it [01:21,  3.28s/it]"
     ]
    },
    {
     "name": "stdout",
     "output_type": "stream",
     "text": [
      "Processing image  ('D6',)\n"
     ]
    },
    {
     "name": "stderr",
     "output_type": "stream",
     "text": [
      "26it [01:23,  3.14s/it]"
     ]
    },
    {
     "name": "stdout",
     "output_type": "stream",
     "text": [
      "Processing image  ('G3',)\n"
     ]
    },
    {
     "name": "stderr",
     "output_type": "stream",
     "text": [
      "27it [01:27,  3.40s/it]"
     ]
    },
    {
     "name": "stdout",
     "output_type": "stream",
     "text": [
      "Processing image  ('F2',)\n"
     ]
    },
    {
     "name": "stderr",
     "output_type": "stream",
     "text": [
      "28it [01:33,  4.18s/it]"
     ]
    },
    {
     "name": "stdout",
     "output_type": "stream",
     "text": [
      "Processing image  ('A1',)\n"
     ]
    },
    {
     "name": "stderr",
     "output_type": "stream",
     "text": [
      "29it [01:37,  3.98s/it]"
     ]
    },
    {
     "name": "stdout",
     "output_type": "stream",
     "text": [
      "Processing image  ('B1',)\n"
     ]
    },
    {
     "name": "stderr",
     "output_type": "stream",
     "text": [
      "30it [01:40,  3.62s/it]"
     ]
    },
    {
     "name": "stdout",
     "output_type": "stream",
     "text": [
      "Processing image  ('C1',)\n"
     ]
    },
    {
     "name": "stderr",
     "output_type": "stream",
     "text": [
      "31it [01:42,  3.08s/it]"
     ]
    },
    {
     "name": "stdout",
     "output_type": "stream",
     "text": [
      "Processing image  ('D1',)\n"
     ]
    },
    {
     "name": "stderr",
     "output_type": "stream",
     "text": [
      "32it [01:44,  2.98s/it]"
     ]
    },
    {
     "name": "stdout",
     "output_type": "stream",
     "text": [
      "Processing image  ('E1',)\n"
     ]
    },
    {
     "name": "stderr",
     "output_type": "stream",
     "text": [
      "33it [01:50,  3.68s/it]"
     ]
    },
    {
     "name": "stdout",
     "output_type": "stream",
     "text": [
      "Processing image  ('F1',)\n"
     ]
    },
    {
     "name": "stderr",
     "output_type": "stream",
     "text": [
      "34it [01:56,  4.36s/it]"
     ]
    },
    {
     "name": "stdout",
     "output_type": "stream",
     "text": [
      "Processing image  ('G2',)\n"
     ]
    },
    {
     "name": "stderr",
     "output_type": "stream",
     "text": [
      "35it [01:59,  4.23s/it]"
     ]
    },
    {
     "name": "stdout",
     "output_type": "stream",
     "text": [
      "Processing image  ('H1',)\n"
     ]
    },
    {
     "name": "stderr",
     "output_type": "stream",
     "text": [
      "36it [02:05,  3.48s/it]\n"
     ]
    }
   ],
   "source": [
    "if not os.path.exists(save_path):\n",
    "        os.makedirs(save_path)\n",
    "\n",
    "adj_dict = {}\n",
    "exp_dict = {}\n",
    "center_dict = {}\n",
    "with torch.no_grad():\n",
    "    for batch in tqdm(train_loader):\n",
    "        #ID, patch, center, exp, adj, oris, sfs, centers = batch\n",
    "        #uncomment to process patch one by one\n",
    "        ID, image, positions, exp, center, adj, oris, sfs, *_ = batch\n",
    "        print(\"Processing image \", ID)\n",
    "        #B,N,C,H,W = patch.shape\n",
    "        #patch = patch.reshape(B*N,C,H,W)  # (N,3,112,112)\n",
    "        if adj.dim() == 3:\n",
    "            adj = adj.squeeze(0)\n",
    "        if exp.dim() == 3:\n",
    "            exp = exp.squeeze(0)\n",
    "            centers = center.squeeze().numpy()\n",
    "        adj_dict[ID] = adj\n",
    "        exp_dict[ID] = exp\n",
    "        center_dict[ID] = center\n",
    "\n",
    "        # to process patches one by one\n",
    "        image_features = []\n",
    "        n_patches = len(center[0])\n",
    "        for i in range(n_patches):\n",
    "            x, y = center[0][i]\n",
    "            x = x.item()\n",
    "            y = y.item()\n",
    "            patch = image[:, (x - 112):(x + 112), (y - 112):(y + 112), :]\n",
    "            #patch = patch.unsqueeze(0)\n",
    "            #print(patch.shape)\n",
    "            patch=patch.permute(0,3,1,2)\n",
    "            patch_features = model.image_encoder(patch.cuda())  # Process one patch at a time\n",
    "            image_features.append(patch_features)\n",
    "            #print(len(image_features), \"processed pathces\")\n",
    "\n",
    "        image_features = torch.cat(image_features, dim=0)\n",
    "\n",
    "        #image_features = model.image_encoder(patch.cuda())\n",
    "        spot_features = model.spot_encoder(exp.cuda(), adj.cuda())\n",
    "\n",
    "        image_embeddings = model.image_projection(image_features).cpu().numpy()\n",
    "        spot_embeddings = (model.spot_projection(spot_features.cuda()))\n",
    "        #print(spot_embeddings.type(), \"spot embedding type\")\n",
    "\n",
    "        spot_encoding = model.spot_autoencoder.encode(spot_embeddings, adj.cuda())\n",
    "        # spot_reconstruction, extras = model.spot_autoencoder.decode(spot_encoding.cuda())\n",
    "        spot_reconstruction = model.spot_autoencoder.decode(spot_encoding.cuda())\n",
    "\n",
    "        spot_embeddings = spot_embeddings.cpu().numpy()\n",
    "        spot_encoding = spot_encoding.cpu().numpy()\n",
    "        #spot_reconstruction = spot_reconstruction.cpu().numpy()\n",
    "\n",
    "        # print(image_embeddings.shape)\n",
    "        # print(spot_embeddings.shape)\n",
    "        np.save(save_path + \"img_embeddings_\" + str(ID[0]) + \".npy\", image_embeddings.T)\n",
    "        np.save(save_path + \"spot_embeddings_\" + str(ID[0]) + \".npy\", spot_embeddings.T)\n",
    "# with torch.no_grad():\n",
    "#     for batch in tqdm(train_loader):\n",
    "#         ID, patch, positions, exp, adj, oris, sfs, center, *_  = batch\n",
    "#         print(\"Processing image \", ID)\n",
    "#         B,N,C,H,W = patch.shape\n",
    "#         print(patch.shape, \"patch shape\")\n",
    "#         patch = patch.reshape(B*N,C,H,W)  # (N,3,112,112)\n",
    "#         if adj.dim() == 3:\n",
    "#             adj = adj.squeeze(0)\n",
    "#         if exp.dim() == 3:\n",
    "#             exp = exp.squeeze(0)\n",
    "#             #centers = centers.squeeze().numpy()\n",
    "#         adj_dict[ID] = adj\n",
    "#         exp_dict[ID] = exp\n",
    "#         #center_dict[ID] = centers\n",
    "#         exp = exp.to(torch.float32)\n",
    "\n",
    "#         image_features = model.image_encoder(patch.cuda())\n",
    "#         spot_features = model.spot_encoder(exp.cuda(), adj.cuda())\n",
    "\n",
    "#         image_embeddings = model.image_projection(image_features).cpu().numpy()\n",
    "#         spot_embeddings = (model.spot_projection(spot_features.cuda()))\n",
    "\n",
    "#         spot_encoding = model.spot_autoencoder.encode(spot_embeddings, adj.cuda())\n",
    "#         spot_reconstruction, extras = model.spot_autoencoder.decode(spot_encoding.cuda())\n",
    "\n",
    "#         spot_embeddings = spot_embeddings.cpu().numpy()\n",
    "#         spot_encoding = spot_encoding.cpu().numpy()\n",
    "#         spot_reconstruction = spot_reconstruction.cpu().numpy()\n",
    "\n",
    "#         # print(image_embeddings.shape)\n",
    "#         # print(spot_embeddings.shape)\n",
    "#         np.save(save_path + \"img_embeddings_\" + str(ID[0]) + \".npy\", image_embeddings.T)\n",
    "#         np.save(save_path + \"spot_embeddings_\" + str(ID[0]) + \".npy\", spot_embeddings.T)"
   ]
  },
  {
   "cell_type": "code",
   "execution_count": 27,
   "metadata": {
    "colab": {
     "base_uri": "https://localhost:8080/"
    },
    "executionInfo": {
     "elapsed": 209,
     "status": "ok",
     "timestamp": 1714693511040,
     "user": {
      "displayName": "Matthew Huang",
      "userId": "00816537668649802899"
     },
     "user_tz": 240
    },
    "id": "2nrw7hVIPASp",
    "outputId": "d884847b-0eb2-4192-ae61-3c2e5e52aa09"
   },
   "outputs": [
    {
     "name": "stdout",
     "output_type": "stream",
     "text": [
      "file img_embeddings_C3.npy\n",
      "ID C3\n",
      "file img_embeddings_C1.npy\n",
      "ID C1\n",
      "file img_embeddings_D3.npy\n",
      "ID D3\n",
      "file img_embeddings_H2.npy\n",
      "ID H2\n",
      "file img_embeddings_G3.npy\n",
      "ID G3\n",
      "file img_embeddings_B5.npy\n",
      "ID B5\n",
      "file img_embeddings_B3.npy\n",
      "ID B3\n",
      "file img_embeddings_D1.npy\n",
      "ID D1\n",
      "file img_embeddings_D4.npy\n",
      "ID D4\n",
      "file img_embeddings_C6.npy\n",
      "ID C6\n",
      "file img_embeddings_F3.npy\n",
      "ID F3\n",
      "file img_embeddings_C2.npy\n",
      "ID C2\n",
      "file img_embeddings_D2.npy\n",
      "ID D2\n",
      "file img_embeddings_B6.npy\n",
      "ID B6\n",
      "file img_embeddings_B4.npy\n",
      "ID B4\n",
      "file img_embeddings_A1.npy\n",
      "ID A1\n",
      "file img_embeddings_D5.npy\n",
      "ID D5\n",
      "file img_embeddings_A6.npy\n",
      "ID A6\n",
      "file img_embeddings_H1.npy\n",
      "ID H1\n",
      "file img_embeddings_A4.npy\n",
      "ID A4\n",
      "file img_embeddings_A2.npy\n",
      "ID A2\n",
      "file img_embeddings_G2.npy\n",
      "ID G2\n",
      "file img_embeddings_H3.npy\n",
      "ID H3\n",
      "file img_embeddings_F1.npy\n",
      "ID F1\n",
      "file img_embeddings_A5.npy\n",
      "ID A5\n",
      "file img_embeddings_F2.npy\n",
      "ID F2\n",
      "file img_embeddings_D6.npy\n",
      "ID D6\n",
      "file img_embeddings_B1.npy\n",
      "ID B1\n",
      "file img_embeddings_C4.npy\n",
      "ID C4\n",
      "file img_embeddings_E3.npy\n",
      "ID E3\n",
      "file img_embeddings_G1.npy\n",
      "ID G1\n",
      "file img_embeddings_B2.npy\n",
      "ID B2\n",
      "file img_embeddings_A3.npy\n",
      "ID A3\n",
      "file img_embeddings_C5.npy\n",
      "ID C5\n",
      "file img_embeddings_E2.npy\n",
      "ID E2\n",
      "file img_embeddings_E1.npy\n",
      "ID E1\n",
      "IMAGE EMB dict_keys(['C3', 'C1', 'D3', 'H2', 'G3', 'B5', 'B3', 'D1', 'D4', 'C6', 'F3', 'C2', 'D2', 'B6', 'B4', 'A1', 'D5', 'A6', 'H1', 'A4', 'A2', 'G2', 'H3', 'F1', 'A5', 'F2', 'D6', 'B1', 'C4', 'E3', 'G1', 'B2', 'A3', 'C5', 'E2', 'E1'])\n",
      "dict_keys(['D3', 'C4', 'A3', 'C2', 'H2', 'D2', 'B1', 'G1', 'F2', 'A4', 'D4', 'G3', 'H3', 'D1', 'B2', 'A1', 'D6', 'B5', 'F3', 'A6', 'C1', 'A2', 'E2', 'D5', 'C6', 'B6', 'C3', 'H1', 'B4', 'A5', 'G2', 'E1', 'E3', 'F1', 'B3', 'C5'])\n",
      "dict_keys(['C3', 'D3', 'C4', 'A3', 'C1', 'C2', 'H2', 'D2', 'B1', 'G1', 'F2', 'A4', 'D4', 'G3', 'H3', 'B5', 'D1', 'B3', 'B2', 'A1', 'C6', 'D6', 'F3', 'A6', 'B6', 'A2', 'B4', 'E2', 'D5', 'H1', 'G2', 'F1', 'A5', 'E3', 'E1', 'C5'])\n",
      "['C3', 'C1', 'D3', 'H2', 'G3', 'B5', 'B3', 'D1', 'D4', 'C6', 'F3', 'C2', 'D2', 'B6', 'B4', 'A1', 'D5', 'A6', 'H1', 'A4', 'A2', 'G2', 'H3', 'F1', 'A5', 'F2', 'D6', 'B1', 'C4', 'E3', 'G1', 'B2', 'A3', 'C5', 'E2', 'E1']\n",
      "Test set names: ['A1', 'B1', 'C1', 'D1', 'E1', 'F1', 'G2', 'H1']\n",
      "Train set names: ['B2', 'A6', 'D5', 'C2', 'F2', 'C4', 'D6', 'C3', 'B3', 'C5', 'D3', 'B6', 'H3', 'E3', 'E2', 'G3', 'D4', 'D2', 'B4', 'A5', 'A4', 'H2', 'G1', 'F3', 'C6', 'A2', 'A3', 'B5']\n"
     ]
    }
   ],
   "source": [
    "\n",
    "all_files = os.listdir(save_path)\n",
    "\n",
    "# exp_dict = {}\n",
    "# for batch in tqdm(train_loader):\n",
    "#     ID, patch, center, exp, adj, oris, sfs, *_ = batch\n",
    "#     print(ID)\n",
    "#     print(exp.shape)\n",
    "#     exp_dict[ID] = exp  # Assuming ID and exp are tensors, we fetch their first elements\n",
    "\n",
    "image_embeddings_dict = {}\n",
    "spot_embeddings_dict = {}\n",
    "ID_list = []\n",
    "\n",
    "for file in all_files:\n",
    "    if file.endswith(\".npy\"):\n",
    "        # Extract the ID from the filename (e.g., A2, C3, etc.)\n",
    "        if data=='her2st':\n",
    "            if 'rep' not in file:\n",
    "                ID = file.split(\"_\")[2].split(\".\")[0]\n",
    "        elif data=='cscc':\n",
    "            if 'rep' in file:\n",
    "                ID = \"_\".join(file.split(\"_\")[2:-1]) + \"_\" + file.split(\"_\")[-1].split(\".\")[0]\n",
    "        elif data =='brst':\n",
    "            if 'rep' not in file: \n",
    "                ID = \"_\".join(file.split(\"_\")[2:]).split(\".\")[0]\n",
    "        if (ID,) in adj_dict:\n",
    "            adj_dict[ID] = adj_dict.pop((ID,))\n",
    "        if (ID,) in exp_dict:\n",
    "            exp_dict[ID] = exp_dict.pop((ID,))\n",
    "        if (ID,) in center_dict:\n",
    "            center_dict[ID] = center_dict.pop((ID,))\n",
    "\n",
    "        # Determine the type of file based on its prefix and load the data\n",
    "        if \"img_embeddings\" in file:\n",
    "            print(\"file\", file)\n",
    "            print(\"ID\",ID)\n",
    "            image_embeddings_dict[ID] = np.load(os.path.join(save_path, file))\n",
    "            ID_list.append(ID)\n",
    "        elif \"spot_embeddings\" in file:\n",
    "            spot_embeddings_dict[ID] = np.load(os.path.join(save_path, file))\n",
    "\n",
    "# Now, image_embeddings_dict and spot_embeddings_dict contain the required data\n",
    "print(\"IMAGE EMB\", image_embeddings_dict.keys())  # Should list all the image embedding IDs\n",
    "print(spot_embeddings_dict.keys())  # Should list all the spot embedding IDs\n",
    "print(exp_dict.keys())  # Should list all the spot embedding IDs\n",
    "print(ID_list)\n",
    "\n",
    "if data=='her2st':\n",
    "    fold=[0,6,12,18,24,27,31,33]\n",
    "    test_ID = ['A1','B1','C1','D1','E1','F1','G2','H1']\n",
    "elif data=='cscc':\n",
    "    fold=[0,3,6,9]\n",
    "    test_ID = ['P2_ST_rep1', 'P5_ST_rep1', 'P9_ST_rep1', 'P10_ST_rep1']\n",
    "elif data =='brst':\n",
    "    fold=[0,6,12,18,24,27,31,33]\n",
    "    test_ID = ['BC23209_C1', 'BC23269_C1', 'BC23272_D2', 'BC23287_C1', 'BC23377_C1', 'BC23450_D2', 'BC23506_C2', 'BC23508_D2']\n",
    "\n",
    "# test_ID = [ID_list[i] for i in fold]\n",
    "print(\"Test set names:\", test_ID)\n",
    "train_ID = list(set(ID_list)-set(test_ID))\n",
    "print(\"Train set names:\",train_ID)\n",
    "\n"
   ]
  },
  {
   "cell_type": "code",
   "execution_count": 28,
   "metadata": {
    "colab": {
     "base_uri": "https://localhost:8080/"
    },
    "executionInfo": {
     "elapsed": 193,
     "status": "ok",
     "timestamp": 1714693519704,
     "user": {
      "displayName": "Matthew Huang",
      "userId": "00816537668649802899"
     },
     "user_tz": 240
    },
    "id": "MVjV-Yg4PASq",
    "outputId": "99813d16-2347-4f19-e5e8-c3bdb16c950b"
   },
   "outputs": [
    {
     "name": "stdout",
     "output_type": "stream",
     "text": [
      "['B2', 'A6', 'D5', 'C2', 'F2', 'C4', 'D6', 'C3', 'C5', 'D3', 'B6', 'H3', 'E3', 'E2', 'G3', 'D4', 'D2', 'B4', 'A5', 'A4', 'H2', 'G1', 'F3', 'C6', 'A2', 'A3', 'B5']\n",
      "(256, 9841)\n",
      "(785, 9841)\n",
      "spot_key shape:  (9841, 256)\n",
      "expression_key shape:  (9841, 785)\n"
     ]
    }
   ],
   "source": [
    "#query\n",
    "# test_ID.remove('A1')\n",
    "train_ID.remove(\"B3\")\n",
    "print(train_ID)\n",
    "# image_query = [spot_embeddings_dict[ID] for ID in test_ID]\n",
    "# expression_gt = [exp_dict[ID].numpy().T for ID in test_ID]\n",
    "\n",
    "# image_train_data = [image_embeddings_dict[ID] for ID in train_ID]\n",
    "spot_train_data = [spot_embeddings_dict[ID] for ID in train_ID]\n",
    "expression_train_data = [exp_dict[ID].numpy().T for ID in train_ID]\n",
    "\n",
    "spot_key = np.concatenate(spot_train_data, axis=1)\n",
    "expression_key = np.concatenate(expression_train_data, axis=1)\n",
    "\n",
    "# print(image_query.shape)\n",
    "# print(expression_gt.shape)\n",
    "print(spot_key.shape)\n",
    "print(expression_key.shape)\n",
    "\n",
    "if spot_key.shape[1] != 256:\n",
    "    spot_key = spot_key.T\n",
    "    print(\"spot_key shape: \", spot_key.shape)\n",
    "if expression_key.shape[0] != spot_key.shape[0]:\n",
    "    expression_key = expression_key.T\n",
    "    print(\"expression_key shape: \", expression_key.shape)"
   ]
  },
  {
   "cell_type": "code",
   "execution_count": 29,
   "metadata": {
    "executionInfo": {
     "elapsed": 196,
     "status": "ok",
     "timestamp": 1714693522598,
     "user": {
      "displayName": "Matthew Huang",
      "userId": "00816537668649802899"
     },
     "user_tz": 240
    },
    "id": "6egZP52uPASq"
   },
   "outputs": [],
   "source": [
    "import torch\n",
    "import numpy as np\n",
    "import scanpy as sc\n",
    "import anndata as ad\n",
    "from tqdm import tqdm\n",
    "from scipy.stats import pearsonr,spearmanr\n",
    "from sklearn.cluster import KMeans\n",
    "from sklearn.metrics import adjusted_rand_score as ari_score\n",
    "from sklearn.metrics.cluster import normalized_mutual_info_score as nmi_score\n",
    "\n",
    "def test(model,test,device='cuda'):\n",
    "    model=model.to(device)\n",
    "    model.eval()\n",
    "    preds=None\n",
    "    ct=None\n",
    "    gt=None\n",
    "    loss=0\n",
    "    with torch.no_grad():\n",
    "        for patch, position, exp, adj, *_, center in tqdm(test):\n",
    "            patch, position, adj = patch.to(device), position.to(device), adj.to(device).squeeze(0)\n",
    "            pred = model(patch, position, adj)[0]\n",
    "            preds = pred.squeeze().cpu().numpy()\n",
    "            ct = center.squeeze().cpu().numpy()\n",
    "            gt = exp.squeeze().cpu().numpy()\n",
    "    adata = ad.AnnData(preds)\n",
    "    adata.obsm['spatial'] = ct\n",
    "    adata_gt = ad.AnnData(gt)\n",
    "    adata_gt.obsm['spatial'] = ct\n",
    "    return adata,adata_gt\n",
    "\n",
    "def cluster(adata,label):\n",
    "    idx = label != 'undetermined'\n",
    "    tmp=adata[idx]\n",
    "    l=label[idx]\n",
    "    print(\"cluster number:\",len(set(l)))\n",
    "    sc.pp.pca(tmp)\n",
    "    sc.tl.tsne(tmp)\n",
    "    kmeans = KMeans(n_clusters=len(set(l)), init=\"k-means++\", random_state=0).fit(tmp.obsm['X_pca'])\n",
    "    p=kmeans.labels_.astype(str)\n",
    "    lbl=np.full(len(adata),str(len(set(l))))\n",
    "    lbl[idx]=p\n",
    "    adata.obs['kmeans']=lbl\n",
    "    return p,round(ari_score(p,l),3)\n",
    "\n",
    "def get_R(data1,data2,dim=1,func=pearsonr):\n",
    "    adata1=data1.X\n",
    "    adata2=data2.X\n",
    "    r1,p1=[],[]\n",
    "    for g in range(data1.shape[dim]):\n",
    "        if dim==1:\n",
    "            r,pv=func(adata1[:,g],adata2[:,g])\n",
    "        elif dim==0:\n",
    "            r,pv=func(adata1[g,:],adata2[g,:])\n",
    "        r1.append(r)\n",
    "        p1.append(pv)\n",
    "    r1=np.array(r1)\n",
    "    p1=np.array(p1)\n",
    "    return r1,p1\n",
    "\n",
    "def get_top_values(arr, num_top_values=10, lowest=False):\n",
    "    return sorted([(i, arr[i]) for i in range(len(arr))], key=lambda x: x[1], reverse=not lowest)[:num_top_values]\n",
    "top_k = 50\n",
    "results = {}\n",
    "top_results = {}\n",
    "selected_folds = [5]\n",
    "\n"
   ]
  },
  {
   "cell_type": "code",
   "execution_count": 30,
   "metadata": {
    "colab": {
     "base_uri": "https://localhost:8080/"
    },
    "executionInfo": {
     "elapsed": 2289,
     "status": "ok",
     "timestamp": 1714693528174,
     "user": {
      "displayName": "Matthew Huang",
      "userId": "00816537668649802899"
     },
     "user_tz": 240
    },
    "id": "t2bAitDIPASq",
    "outputId": "da1ae37d-051b-42d5-dff7-fb3d21039f07"
   },
   "outputs": [
    {
     "name": "stdout",
     "output_type": "stream",
     "text": [
      "Begin Processing Image A1\n",
      "image query shape:  (346, 256)\n",
      "expression_gt shape:  (346, 785)\n",
      "finding matches, using weighted average of top 100 expressions\n",
      "dot_similarity.shape = spots * reference_spots =  torch.Size([346, 9841])\n",
      "check for NaN\n",
      "pred.shape (346, 785)\n",
      "true.shape (346, 785)\n",
      "np.max(pred) 171.7166290283203\n",
      "np.max(true) 188.0\n",
      "np.min(pred) 0.0\n",
      "np.min(true) 0.0\n",
      "The Prediction: prediction\n",
      "Cell Mean R:  0.2619626484795314\n",
      "MSE across cells:  20.97224660632903\n",
      "RMSE across cells:  4.579546550296113\n",
      "Max correlation across genes: 0.3192695422536538\n",
      "Genes mean R:  0.03144953471390478\n",
      "Gene median R:  0.02763726770530971\n",
      "number of genes with correlation > 0.3:  1\n",
      "Top 50 Genes Mean Pearson Correlation: 0.17329974823890104\n",
      "Top 50 Genes Median Pearson Correlation: 0.17401420656783975\n",
      "Fold A1 Top 10 genes with highest -log10 p-values:\n",
      "Gene ID: 319, Gene Name: PNMT, R: 0.3192695422536538, p_values: 1.2242040175594486e-09\n",
      "Gene ID: 134, Gene Name: GNAS, R: 0.2637300508809019, p_values: 6.481617233070084e-07\n",
      "Gene ID: 431, Gene Name: CLDN4, R: 0.2545790955980438, p_values: 1.6059093824971566e-06\n",
      "Gene ID: 89, Gene Name: ITGB6, R: 0.24695269701394607, p_values: 3.3327824577578055e-06\n",
      "Gene ID: 227, Gene Name: SCD, R: 0.2293518931120371, p_values: 1.6450001328813385e-05\n",
      "Gene ID: 328, Gene Name: MGP, R: 0.22394437345604506, p_values: 2.6218486794823857e-05\n",
      "Gene ID: 366, Gene Name: FASN, R: 0.22313127110223335, p_values: 2.80946433142419e-05\n",
      "Gene ID: 76, Gene Name: TRAP1, R: 0.21516049748635624, p_values: 5.458091566069896e-05\n",
      "Gene ID: 615, Gene Name: TCF25, R: 0.20384383627483726, p_values: 0.00013445177956924862\n",
      "Gene ID: 451, Gene Name: PLK2, R: 0.20037289884803505, p_values: 0.00017558240130808765\n",
      "Result of  A1  ended! \n",
      "\n",
      "\n",
      "\n",
      "Begin Processing Image B1\n",
      "image query shape:  (295, 256)\n",
      "expression_gt shape:  (295, 785)\n",
      "finding matches, using weighted average of top 100 expressions\n",
      "dot_similarity.shape = spots * reference_spots =  torch.Size([295, 9841])\n",
      "check for NaN\n",
      "pred.shape (295, 785)\n",
      "true.shape (295, 785)\n",
      "np.max(pred) 116.0525131225586\n",
      "np.max(true) 325.0\n",
      "np.min(pred) 0.0\n",
      "np.min(true) 0.0\n",
      "The Prediction: prediction\n",
      "Cell Mean R:  0.4348857002935967\n",
      "MSE across cells:  13.376580718476726\n",
      "RMSE across cells:  3.657400814578124\n",
      "Max correlation across genes: 0.710067414730231\n",
      "Genes mean R:  0.31982474225031293\n",
      "Gene median R:  0.32669527849455404\n",
      "number of genes with correlation > 0.3:  441\n",
      "Top 50 Genes Mean Pearson Correlation: 0.6040451676793873\n",
      "Top 50 Genes Median Pearson Correlation: 0.6012263670663663\n",
      "Fold B1 Top 10 genes with highest -log10 p-values:\n",
      "Gene ID: 197, Gene Name: HLA-B, R: 0.710067414730231, p_values: 1.5078330131078135e-46\n",
      "Gene ID: 134, Gene Name: GNAS, R: 0.6886520213236937, p_values: 8.388786858814047e-43\n",
      "Gene ID: 763, Gene Name: CXXC5, R: 0.6852080943545966, p_values: 3.1322720245231206e-42\n",
      "Gene ID: 746, Gene Name: MYL12B, R: 0.666838557125822, p_values: 2.621906888672798e-39\n",
      "Gene ID: 4, Gene Name: HNRNPUL2, R: 0.661317960459218, p_values: 1.806064123899173e-38\n",
      "Gene ID: 199, Gene Name: MVP, R: 0.6599305201588925, p_values: 2.914628747472673e-38\n",
      "Gene ID: 193, Gene Name: SRSF5, R: 0.640851014203751, p_values: 1.6392941443672844e-35\n",
      "Gene ID: 697, Gene Name: PRKCSH, R: 0.6403454621986624, p_values: 1.9270149382565473e-35\n",
      "Gene ID: 334, Gene Name: SAT1, R: 0.6379034276727673, p_values: 4.1905604475234956e-35\n",
      "Gene ID: 267, Gene Name: MZT2A, R: 0.6250924251390262, p_values: 2.20525851517659e-33\n",
      "Result of  B1  ended! \n",
      "\n",
      "\n",
      "\n",
      "Begin Processing Image C1\n",
      "image query shape:  (176, 256)\n",
      "expression_gt shape:  (176, 785)\n",
      "finding matches, using weighted average of top 100 expressions\n",
      "dot_similarity.shape = spots * reference_spots =  torch.Size([176, 9841])\n",
      "check for NaN\n",
      "pred.shape (176, 785)\n",
      "true.shape (176, 785)\n",
      "np.max(pred) 137.0409698486328\n",
      "np.max(true) 360.0\n",
      "np.min(pred) 0.0\n",
      "np.min(true) 0.0\n",
      "The Prediction: prediction\n",
      "Cell Mean R:  0.6375086012936169\n",
      "MSE across cells:  99.63880161175142\n",
      "RMSE across cells:  9.981923743034276\n",
      "Max correlation across genes: 0.49715860457274175\n",
      "Genes mean R:  0.1486388446442343\n",
      "Gene median R:  0.1497731037882083\n",
      "number of genes with correlation > 0.3:  88\n",
      "Top 50 Genes Mean Pearson Correlation: 0.38553366855273674\n",
      "Top 50 Genes Median Pearson Correlation: 0.37633461089770387\n",
      "Fold C1 Top 10 genes with highest -log10 p-values:\n",
      "Gene ID: 134, Gene Name: GNAS, R: 0.49715860457274175, p_values: 2.2393706225492637e-12\n",
      "Gene ID: 314, Gene Name: MRPL51, R: 0.482487910259651, p_values: 1.19421551128286e-11\n",
      "Gene ID: 555, Gene Name: NDUFB2, R: 0.47830962930781473, p_values: 1.8961846177396893e-11\n",
      "Gene ID: 746, Gene Name: MYL12B, R: 0.4717770976562071, p_values: 3.8585859575729914e-11\n",
      "Gene ID: 78, Gene Name: TMEM123, R: 0.468381125310922, p_values: 5.5497204841861844e-11\n",
      "Gene ID: 580, Gene Name: TMBIM6, R: 0.45818128265729047, p_values: 1.6145948184817984e-10\n",
      "Gene ID: 4, Gene Name: HNRNPUL2, R: 0.4492053397373712, p_values: 4.0154556902804095e-10\n",
      "Gene ID: 328, Gene Name: MGP, R: 0.44416971633647057, p_values: 6.618017622081662e-10\n",
      "Gene ID: 664, Gene Name: ZFR, R: 0.424787711812614, p_values: 4.2035211938615145e-09\n",
      "Gene ID: 421, Gene Name: TFF3, R: 0.41307197676923557, p_values: 1.215964766483889e-08\n",
      "Result of  C1  ended! \n",
      "\n",
      "\n",
      "\n",
      "Begin Processing Image D1\n",
      "image query shape:  (306, 256)\n",
      "expression_gt shape:  (306, 785)\n",
      "finding matches, using weighted average of top 100 expressions\n",
      "dot_similarity.shape = spots * reference_spots =  torch.Size([306, 9841])\n",
      "check for NaN\n",
      "pred.shape (306, 785)\n",
      "true.shape (306, 785)\n",
      "np.max(pred) 229.33245849609375\n",
      "np.max(true) 290.0\n",
      "np.min(pred) 0.0\n",
      "np.min(true) 0.0\n",
      "The Prediction: prediction\n",
      "Cell Mean R:  0.44289813041202064\n",
      "MSE across cells:  34.510597069651695\n",
      "RMSE across cells:  5.874572075449556\n",
      "Max correlation across genes: 0.5201466476557335\n",
      "Genes mean R:  0.14457097376286016\n",
      "Gene median R:  0.1371777544934017\n",
      "number of genes with correlation > 0.3:  72\n",
      "Top 50 Genes Mean Pearson Correlation: 0.3808962399621145\n",
      "Top 50 Genes Median Pearson Correlation: 0.3680710733218603\n",
      "Fold D1 Top 10 genes with highest -log10 p-values:\n",
      "Gene ID: 783, Gene Name: NDRG1, R: 0.5201466476557335, p_values: 1.3042623971434766e-22\n",
      "Gene ID: 495, Gene Name: FN1, R: 0.47275826106468855, p_values: 1.915040840252861e-18\n",
      "Gene ID: 397, Gene Name: IGFBP2, R: 0.46818848080260417, p_values: 4.475280056775179e-18\n",
      "Gene ID: 134, Gene Name: GNAS, R: 0.45660467908063973, p_values: 3.638552775882805e-17\n",
      "Gene ID: 389, Gene Name: SOX4, R: 0.4555440433880307, p_values: 4.3908257377964205e-17\n",
      "Gene ID: 660, Gene Name: KRT8, R: 0.4340919089709975, p_values: 1.7128962622024596e-15\n",
      "Gene ID: 431, Gene Name: CLDN4, R: 0.42787499775859583, p_values: 4.723241741520282e-15\n",
      "Gene ID: 746, Gene Name: MYL12B, R: 0.4239406632230249, p_values: 8.87917123048123e-15\n",
      "Gene ID: 314, Gene Name: MRPL51, R: 0.42178681581878563, p_values: 1.2500859531728975e-14\n",
      "Gene ID: 366, Gene Name: FASN, R: 0.41976694556676386, p_values: 1.7191157411362863e-14\n",
      "Result of  D1  ended! \n",
      "\n",
      "\n",
      "\n",
      "Begin Processing Image E1\n",
      "image query shape:  (587, 256)\n",
      "expression_gt shape:  (587, 785)\n",
      "finding matches, using weighted average of top 100 expressions\n",
      "dot_similarity.shape = spots * reference_spots =  torch.Size([587, 9841])\n",
      "check for NaN\n",
      "pred.shape (587, 785)\n",
      "true.shape (587, 785)\n",
      "np.max(pred) 287.8069763183594\n",
      "np.max(true) 362.0\n",
      "np.min(pred) 0.0\n",
      "np.min(true) 0.0\n",
      "The Prediction: prediction\n",
      "Cell Mean R:  0.3533659702678136\n",
      "MSE across cells:  65.22321677655648\n",
      "RMSE across cells:  8.076089200631484\n",
      "Max correlation across genes: 0.15435519129926217\n",
      "Genes mean R:  -0.02508322101568949\n",
      "Gene median R:  -0.02403543016599905\n",
      "number of genes with correlation > 0.3:  0\n",
      "Top 50 Genes Mean Pearson Correlation: -0.12354171503267693\n",
      "Top 50 Genes Median Pearson Correlation: -0.1250580700248235\n",
      "Fold E1 Top 10 genes with highest -log10 p-values:\n",
      "Gene ID: 544, Gene Name: SLPI, R: 0.15435519129926217, p_values: 0.00017383944501178143\n",
      "Gene ID: 655, Gene Name: ADAM15, R: 0.11880154665132547, p_values: 0.003946427649527128\n",
      "Gene ID: 511, Gene Name: GBP3, R: 0.1111646323732999, p_values: 0.007019343460950442\n",
      "Gene ID: 556, Gene Name: GYPC, R: 0.10720248518387901, p_values: 0.009342265085249319\n",
      "Gene ID: 482, Gene Name: AGAP2, R: 0.1062744407009587, p_values: 0.009976636899243087\n",
      "Gene ID: 278, Gene Name: LIMCH1, R: 0.10263155895758382, p_values: 0.012852223558450688\n",
      "Gene ID: 241, Gene Name: S100A9, R: 0.1006024538905455, p_values: 0.014752522466136444\n",
      "Gene ID: 763, Gene Name: CXXC5, R: 0.0943968444826214, p_values: 0.0221789611817494\n",
      "Gene ID: 710, Gene Name: CLU, R: 0.09423238931279777, p_values: 0.022413509626875803\n",
      "Gene ID: 188, Gene Name: DDB2, R: 0.09327637109065867, p_values: 0.023820036442509167\n",
      "Result of  E1  ended! \n",
      "\n",
      "\n",
      "\n",
      "Begin Processing Image F1\n",
      "image query shape:  (691, 256)\n",
      "expression_gt shape:  (691, 785)\n",
      "finding matches, using weighted average of top 100 expressions\n",
      "dot_similarity.shape = spots * reference_spots =  torch.Size([691, 9841])\n",
      "check for NaN\n",
      "pred.shape (691, 785)\n",
      "true.shape (691, 785)\n",
      "np.max(pred) 283.9514465332031\n",
      "np.max(true) 286.0\n",
      "np.min(pred) 0.0\n",
      "np.min(true) 0.0\n",
      "The Prediction: prediction\n",
      "Cell Mean R:  0.5120405678284438\n",
      "MSE across cells:  27.68219754060425\n",
      "RMSE across cells:  5.261387415939283\n",
      "Max correlation across genes: 0.30777308163476347\n",
      "Genes mean R:  -0.019475246420263694\n",
      "Gene median R:  -0.01923392799030352\n",
      "number of genes with correlation > 0.3:  1\n",
      "Top 50 Genes Mean Pearson Correlation: -0.07284438536552569\n",
      "Top 50 Genes Median Pearson Correlation: -0.11352999591847548\n",
      "Fold F1 Top 10 genes with highest -log10 p-values:\n",
      "Gene ID: 60, Gene Name: IGKC, R: 0.30777308163476347, p_values: 1.2578883727624777e-16\n",
      "Gene ID: 486, Gene Name: IGHG4, R: 0.24861257739927423, p_values: 3.4083817927964247e-11\n",
      "Gene ID: 311, Gene Name: IGHA1, R: 0.23092183671907912, p_values: 8.126756765024888e-10\n",
      "Gene ID: 232, Gene Name: CD52, R: 0.13569780441147905, p_values: 0.0003473311358250794\n",
      "Gene ID: 629, Gene Name: OPTN, R: 0.1224880124979825, p_values: 0.0012546595445188772\n",
      "Gene ID: 447, Gene Name: IGHG3, R: 0.11990755322773766, p_values: 0.001590255409571596\n",
      "Gene ID: 715, Gene Name: IGLC3, R: 0.1186336510710323, p_values: 0.001784707283687857\n",
      "Gene ID: 405, Gene Name: VWF, R: 0.11633336596428415, p_values: 0.0021919599167325066\n",
      "Gene ID: 714, Gene Name: STK4, R: 0.11559743784203277, p_values: 0.002339191792363523\n",
      "Gene ID: 33, Gene Name: C1QB, R: 0.11295939898150295, p_values: 0.002944281419124424\n",
      "Result of  F1  ended! \n",
      "\n",
      "\n",
      "\n",
      "Begin Processing Image G2\n",
      "image query shape:  (467, 256)\n",
      "expression_gt shape:  (467, 785)\n",
      "finding matches, using weighted average of top 100 expressions\n",
      "dot_similarity.shape = spots * reference_spots =  torch.Size([467, 9841])\n",
      "check for NaN\n",
      "pred.shape (467, 785)\n",
      "true.shape (467, 785)\n",
      "np.max(pred) 298.803955078125\n",
      "np.max(true) 283.0\n",
      "np.min(pred) 0.0\n",
      "np.min(true) 0.0\n",
      "The Prediction: prediction\n",
      "Cell Mean R:  0.5776327748564792\n",
      "MSE across cells:  36.36130392102895\n",
      "RMSE across cells:  6.030033492529618\n",
      "Max correlation across genes: 0.503911361798483\n",
      "Genes mean R:  0.13331688081293383\n",
      "Gene median R:  0.1267883884510924\n",
      "number of genes with correlation > 0.3:  50\n",
      "Top 50 Genes Mean Pearson Correlation: 0.36393041967042267\n",
      "Top 50 Genes Median Pearson Correlation: 0.34379780712466224\n",
      "Fold G2 Top 10 genes with highest -log10 p-values:\n",
      "Gene ID: 374, Gene Name: AEBP1, R: 0.503911361798483, p_values: 1.9259219829117283e-31\n",
      "Gene ID: 134, Gene Name: GNAS, R: 0.48981402779986544, p_values: 1.496697028233087e-29\n",
      "Gene ID: 597, Gene Name: MUC1, R: 0.4845733335743189, p_values: 7.175072289437982e-29\n",
      "Gene ID: 328, Gene Name: MGP, R: 0.47211259917489756, p_values: 2.678497034734876e-27\n",
      "Gene ID: 4, Gene Name: HNRNPUL2, R: 0.4618372643565069, p_values: 4.748618585252116e-26\n",
      "Gene ID: 697, Gene Name: PRKCSH, R: 0.4581103362957584, p_values: 1.3155830107605522e-25\n",
      "Gene ID: 295, Gene Name: GPRC5A, R: 0.4553881647759681, p_values: 2.7475051798598406e-25\n",
      "Gene ID: 431, Gene Name: CLDN4, R: 0.45346725209319566, p_values: 4.601482337795962e-25\n",
      "Gene ID: 89, Gene Name: ITGB6, R: 0.45301852807596943, p_values: 5.18812120004423e-25\n",
      "Gene ID: 449, Gene Name: CX3CL1, R: 0.4310311830600692, p_values: 1.499581685660038e-22\n",
      "Result of  G2  ended! \n",
      "\n",
      "\n",
      "\n",
      "Begin Processing Image H1\n",
      "image query shape:  (613, 256)\n",
      "expression_gt shape:  (613, 785)\n",
      "finding matches, using weighted average of top 100 expressions\n",
      "dot_similarity.shape = spots * reference_spots =  torch.Size([613, 9841])\n",
      "check for NaN\n",
      "pred.shape (613, 785)\n",
      "true.shape (613, 785)\n",
      "np.max(pred) 186.00106811523438\n",
      "np.max(true) 373.0\n",
      "np.min(pred) 0.0\n",
      "np.min(true) 0.0\n",
      "The Prediction: prediction\n",
      "Cell Mean R:  0.615826150735403\n",
      "MSE across cells:  25.984455970270737\n",
      "RMSE across cells:  5.097495068194842\n",
      "Max correlation across genes: 0.5356832805268277\n",
      "Genes mean R:  0.13874158875324608\n",
      "Gene median R:  0.13261887328550112\n",
      "number of genes with correlation > 0.3:  42\n",
      "Top 50 Genes Mean Pearson Correlation: 0.3465332522755516\n",
      "Top 50 Genes Median Pearson Correlation: 0.33138211918268373\n",
      "Fold H1 Top 10 genes with highest -log10 p-values:\n",
      "Gene ID: 134, Gene Name: GNAS, R: 0.5356832805268277, p_values: 8.035668838533742e-47\n",
      "Gene ID: 328, Gene Name: MGP, R: 0.47711438086631464, p_values: 3.605864836774738e-36\n",
      "Gene ID: 197, Gene Name: HLA-B, R: 0.46818280909745635, p_values: 1.0175923141612194e-34\n",
      "Gene ID: 733, Gene Name: UBA52, R: 0.4680566349030572, p_values: 1.0660082844372894e-34\n",
      "Gene ID: 193, Gene Name: SRSF5, R: 0.43550885712787113, p_values: 9.190048812469347e-30\n",
      "Gene ID: 698, Gene Name: HLA-DRA, R: 0.43094563939482716, p_values: 4.107774737314142e-29\n",
      "Gene ID: 642, Gene Name: LCP1, R: 0.4085466068240075, p_values: 4.6276705747580605e-26\n",
      "Gene ID: 201, Gene Name: VIM, R: 0.4047459665997928, p_values: 1.4477981981621016e-25\n",
      "Gene ID: 397, Gene Name: IGFBP2, R: 0.3932888959601325, p_values: 4.128607442594476e-24\n",
      "Gene ID: 28, Gene Name: TIMP1, R: 0.3895121620292721, p_values: 1.21094091597249e-23\n",
      "Result of  H1  ended! \n",
      "\n",
      "\n",
      "\n"
     ]
    }
   ],
   "source": [
    "import warnings\n",
    "warnings.filterwarnings('ignore')\n",
    "\n",
    "from sklearn.metrics import mean_squared_error\n",
    "from math import sqrt\n",
    "\n",
    "for ID in test_ID:\n",
    "    print(\"Begin Processing Image\", ID)\n",
    "    #image_query = spot_embeddings_dict[ID]\n",
    "    image_query = image_embeddings_dict[ID]\n",
    "    expression_gt = exp_dict[ID].numpy().T\n",
    "\n",
    "    method = \"weighted_average\" # \"average\" \"weighted_average\"\n",
    "    save_path = \"\"\n",
    "    if image_query.shape[1] != 256:\n",
    "        image_query = image_query.T\n",
    "        print(\"image query shape: \", image_query.shape)\n",
    "    if expression_gt.shape[0] != image_query.shape[0]:\n",
    "        expression_gt = expression_gt.T\n",
    "        print(\"expression_gt shape: \", expression_gt.shape)\n",
    "    if spot_key.shape[1] != 256:\n",
    "        spot_key = spot_key.T\n",
    "        print(\"spot_key shape: \", spot_key.shape)\n",
    "    if expression_key.shape[0] != spot_key.shape[0]:\n",
    "        expression_key = expression_key.T\n",
    "        print(\"expression_key shape: \", expression_key.shape)\n",
    "\n",
    "    if method == \"simple\":\n",
    "        indices = find_matches(spot_key, image_query, top_k=1)\n",
    "        matched_spot_embeddings_pred = spot_key[indices[:,0],:]\n",
    "        print(\"matched spot embeddings pred shape: \", matched_spot_embeddings_pred.shape)\n",
    "        matched_spot_expression_pred = expression_key[indices[:,0],:]\n",
    "        print(\"matched spot expression pred shape: \", matched_spot_expression_pred.shape)\n",
    "\n",
    "    if method == \"average\":\n",
    "        print(\"finding matches, using average of top 50 expressions\")\n",
    "        indices = find_matches(spot_key, image_query, top_k=10)\n",
    "        matched_spot_embeddings_pred = np.zeros((indices.shape[0], spot_key.shape[1]))\n",
    "        matched_spot_expression_pred = np.zeros((indices.shape[0], expression_key.shape[1]))\n",
    "        for i in range(indices.shape[0]):\n",
    "            matched_spot_embeddings_pred[i,:] = np.average(spot_key[indices[i,:],:], axis=0)\n",
    "            matched_spot_expression_pred[i,:] = np.average(expression_key[indices[i,:],:], axis=0)\n",
    "\n",
    "        print(\"matched spot embeddings pred shape: \", matched_spot_embeddings_pred.shape)\n",
    "        print(\"matched spot expression pred shape: \", matched_spot_expression_pred.shape)\n",
    "\n",
    "    if method == \"weighted_average\":\n",
    "        print(\"finding matches, using weighted average of top 100 expressions\")\n",
    "        indices = find_matches(spot_key, image_query, top_k=10)\n",
    "        # print(\"indices = \", indices)\n",
    "        matched_spot_embeddings_pred = np.zeros((indices.shape[0], spot_key.shape[1]))\n",
    "        matched_spot_expression_pred = np.zeros((indices.shape[0], expression_key.shape[1]))\n",
    "        for i in range(indices.shape[0]):\n",
    "            a = np.sum((spot_key[indices[i,0],:] - image_query[i,:])**2) #the smallest MSE\n",
    "            weights = np.exp(-(np.sum((spot_key[indices[i,:],:] - image_query[i,:])**2, axis=1)-a+1))\n",
    "            # weights = a/np.sum((spot_key[indices[i,:],:] - image_query[i,:])**2, axis=1)\n",
    "            # a = np.sqrt(np.sum((spot_key[indices[i,0],:] - image_query[i,:])**2)) #the smallest RMSE\n",
    "            # weights = np.exp(-(np.sqrt(np.sum((spot_key[indices[i,:],:] - image_query[i,:])**2, axis=1))-a+1))\n",
    "\n",
    "            # sorted_indices = np.argsort(weights)[::-1]  #\n",
    "            # top_10_weights = weights[sorted_indices[:10]]\n",
    "            # least_10_weights = weights[sorted_indices[-10:]]\n",
    "            # print(\"Top 10 weights: \", top_10_weights)\n",
    "            # print(\"least 10 weights: \", least_10_weights)\n",
    "\n",
    "            # if i == 0:\n",
    "            #     print(\"weights: \", weights)\n",
    "            matched_spot_embeddings_pred[i,:] = np.average(spot_key[indices[i,:],:], axis=0, weights=weights)\n",
    "            matched_spot_expression_pred[i,:] = np.average(expression_key[indices[i,:],:], axis=0, weights=weights)\n",
    "\n",
    "        # print(\"matched spot embeddings pred shape: \", matched_spot_embeddings_pred.shape)\n",
    "        # print(\"matched spot expression pred shape: \", matched_spot_expression_pred.shape)\n",
    "\n",
    "    true = expression_gt\n",
    "    pred = matched_spot_expression_pred\n",
    "    adj = adj_dict[ID]\n",
    "\n",
    "    model.eval()\n",
    "\n",
    "    # Create the directory if it doesn't exist\n",
    "    output_dir = './figures/show'\n",
    "    if not os.path.exists(output_dir):\n",
    "        os.makedirs(output_dir)\n",
    "    # Additional subdirectories\n",
    "    subdirs = ['gene', 'clus']\n",
    "    for subdir in subdirs:\n",
    "        subdir_path = os.path.join(output_dir, subdir)\n",
    "        if not os.path.exists(subdir_path):\n",
    "            os.makedirs(subdir_path)\n",
    "\n",
    "    with torch.no_grad():\n",
    "        pred_features = model.spot_encoder(torch.tensor(pred, dtype=torch.float32).cuda(), adj.cuda())\n",
    "        pred_embeddings = model.spot_projection(torch.tensor(pred_features, dtype=torch.float32).cuda())\n",
    "        pred_encoding = model.spot_autoencoder.encode(torch.tensor(pred_embeddings, dtype=torch.float32).cuda(), adj.cuda())\n",
    "        pred_reconstruction, extra = model.spot_autoencoder.decode(torch.tensor(pred_encoding, dtype=torch.float32).cuda())\n",
    "\n",
    "        pred_features = pred_features.cpu().numpy()\n",
    "        pred_embeddings = pred_embeddings.cpu().numpy()\n",
    "        pred_encoding = pred_encoding.cpu().numpy()\n",
    "        #pred_reconstruction = pred_reconstruction.cpu().numpy()\n",
    "\n",
    "\n",
    "    print(\"check for NaN\")\n",
    "    if np.isnan(pred).any():\n",
    "        print(\"pred contains NaN values\")\n",
    "    if np.isnan(true).any():\n",
    "        print(\"true contains NaN values\")\n",
    "        \n",
    "    print(\"pred.shape\",pred.shape)\n",
    "    print(\"true.shape\",true.shape)\n",
    "    print(\"np.max(pred)\",np.max(pred))\n",
    "    print(\"np.max(true)\",np.max(true))\n",
    "    print(\"np.min(pred)\",np.min(pred))\n",
    "    print(\"np.min(true)\",np.min(true))\n",
    "\n",
    "    ####### Prediction PCC performance\n",
    "    #mix = (pred + pred_reconstruction)/2\n",
    "\n",
    "    def evaluate_gene_expression(pred, true, ID, top_k, fold, top_results, testset):\n",
    "        # Genewise correlation across cells\n",
    "        corr_cells = np.zeros(pred.shape[0])\n",
    "        for i in range(pred.shape[0]):\n",
    "            corr_cells[i] = np.corrcoef(pred[i, :], true[i, :])[0, 1]\n",
    "        # Remove NaN\n",
    "        corr_cells = corr_cells[~np.isnan(corr_cells)]\n",
    "        print(\"Cell Mean R: \", np.mean(corr_cells))\n",
    "\n",
    "        # Calculate RMSE across cells\n",
    "        mse_cells = mean_squared_error(pred, true)\n",
    "        rmse_cells = sqrt(mse_cells)\n",
    "        print(\"MSE across cells: \", mse_cells)\n",
    "        print(\"RMSE across cells: \", rmse_cells)\n",
    "\n",
    "        # Genewise correlation across genes\n",
    "        corr_genes = np.zeros(pred.shape[1])\n",
    "        p_values = np.zeros(pred.shape[1])\n",
    "        for i in range(pred.shape[1]):\n",
    "            # corr_genes[i] = np.corrcoef(pred[:, i], true[:, i])[0, 1]\n",
    "            corr_genes[i], p_values[i] = pearsonr(pred[:, i], true[:, i])\n",
    "        # Remove NaN\n",
    "        valid_indices = ~np.isnan(corr_genes)\n",
    "        corr_genes = corr_genes[valid_indices]\n",
    "        p_values = p_values[valid_indices]\n",
    "\n",
    "        if corr_genes.size == 0:\n",
    "            print(\"corr_genes is an empty array\")\n",
    "        elif np.isnan(corr_genes).all():\n",
    "            print(\"corr_genes is an array of NaNs\")\n",
    "        else:\n",
    "            print(\"Max correlation across genes:\", np.nanmax(corr_genes))\n",
    "\n",
    "        print(\"Genes mean R: \", np.mean(corr_genes))\n",
    "        print(\"Gene median R: \", np.median(corr_genes))\n",
    "        print(\"number of genes with correlation > 0.3: \", np.sum(corr_genes > 0.3))\n",
    "\n",
    "        mlog_p_values = -np.log10(p_values)\n",
    "        # Top-k genes\n",
    "        # top_k_indices = np.argsort(corr_genes)[-top_k:] ## highest R\n",
    "        top_k_indices = np.argsort(mlog_p_values)[-top_k:] ## highest -log10 p-values\n",
    "        top_R_values = corr_genes[top_k_indices]\n",
    "        top_pred_values = pred[:, top_k_indices]\n",
    "        top_results[ID] = (top_R_values, top_pred_values)\n",
    "        print(f'Top {top_k} Genes Mean Pearson Correlation:', np.nanmean(top_R_values))\n",
    "        print(f'Top {top_k} Genes Median Pearson Correlation:', np.nanmedian(top_R_values))\n",
    "\n",
    "        # Get top gene correlations\n",
    "        top_R_values = get_top_values(corr_genes)\n",
    "        print('Fold', ID, \"Top 10 genes with highest -log10 p-values:\")\n",
    "        for gene_id, r_value in top_R_values:\n",
    "            gene_name = testset.gene_set[gene_id]\n",
    "            print(f\"Gene ID: {gene_id}, Gene Name: {gene_name}, R: {r_value}, p_values: {p_values[gene_id]}\")\n",
    "\n",
    "        return corr_genes\n",
    "\n",
    "    # Example usage:\n",
    "    print(f\"The Prediction: prediction\")\n",
    "    corr_genes = evaluate_gene_expression(pred, true, ID, top_k, fold, top_results, testset)\n",
    "    # print(f\"\\n The Prediction Matrix: pred_reconstruction\")\n",
    "    # evaluate_gene_expression(pred_reconstruction, true, ID, top_k, fold, top_results, testset)\n",
    "    # print(f\"\\n The Prediction Matrix: mix\")\n",
    "    # evaluate_gene_expression(mix, true, ID, top_k, fold, top_results, testset)\n",
    "\n",
    "\n",
    "    # ####### Clustering\n",
    "    # ### Change the type of pred to AnnData for the next clustering task\n",
    "    # pred = sc.AnnData(pred)\n",
    "    # pred.obsm['spatial'] = center_dict[ID]\n",
    "    # true = ad.AnnData(true)\n",
    "    # true.obsm['spatial'] = center_dict[ID]\n",
    "    # if data == \"her2st\":\n",
    "    #     pred.var_names = list(np.load('data/her_hvg_cut_1000.npy',allow_pickle=True))\n",
    "    #     true.var_names = list(np.load('data/her_hvg_cut_1000.npy',allow_pickle=True))\n",
    "    # elif data == \"cscc\":\n",
    "    #     pred.var_names = list(np.load('data/skin_hvg_cut_1000.npy',allow_pickle=True))\n",
    "    #     true.var_names = list(np.load('data/skin_hvg_cut_1000.npy',allow_pickle=True))\n",
    "    # elif data =='brst':\n",
    "    #     pred.var_names = list(np.load(\"SGCL2ST/data/filtered_hvg_indices.npy\", allow_pickle=True))\n",
    "    #     true.var_names = list(np.load(\"SGCL2ST/data/filtered_hvg_indices.npy\", allow_pickle=True))\n",
    "    # pred_features = sc.AnnData(pred_features)\n",
    "    # pred_features.obsm['spatial'] = center_dict[ID]\n",
    "    # pred_embeddings = sc.AnnData(pred_embeddings)\n",
    "    # pred_embeddings.obsm['spatial'] = center_dict[ID]\n",
    "    # # pred_encoding = sc.AnnData(pred_encoding)\n",
    "    # # pred_encoding.obsm['spatial'] = center_dict[ID]\n",
    "    # pred_reconstruction = sc.AnnData(pred_reconstruction)\n",
    "    # pred_reconstruction.obsm['spatial'] = center_dict[ID]\n",
    "    # mix = sc.AnnData(mix)\n",
    "    # mix.obsm['spatial'] = center_dict[ID]\n",
    "\n",
    "    # # Extract top 2 genes based on -log10 p-values\n",
    "    # top_R_values_2 = get_top_values(corr_genes, num_top_values=3)\n",
    "    # # Visualize the top 2 genes for this ID\n",
    "    # for gene_id, r_value in top_R_values_2:\n",
    "    #     gene_name = testset.gene_set[gene_id]\n",
    "    #     title = f\"ID {ID} Gene: {gene_name} R = {r_value:.3f}\"\n",
    "    #     file_path = f\"/gene/{ID}_{gene_name}_{r_value:.3f}.pdf\"\n",
    "    #     sc.pl.spatial(pred, img=testset.get_img(ID), color=gene_name, spot_size=112, title=title, color_map='magma', save=file_path)\n",
    "\n",
    "        # #if want gt\n",
    "        # title = f\"ID {ID} Gene: {gene_name} gt\"\n",
    "        # file_path = f\"/gene/{ID}_{gene_name}_gt.pdf\"\n",
    "        # sc.pl.spatial(true, img=testset.get_img(ID), color=gene_name, spot_size=112, title=title, color_map='magma', save=file_path)\n",
    "\n",
    "\n",
    "    # if data=='her2st':\n",
    "    #     ####### Generate cluster figure\n",
    "    #     label = testset.label[ID]\n",
    "    #     # print(\"label = \",label)\n",
    "    #     clus, ARI = cluster(pred, label)\n",
    "    #     print('Fold:', fold, 'ARI:', ARI)\n",
    "    #     title = f\"SGCL2ST {ID} ARI = {ARI:.3f}\"  # Format title with ARI value\n",
    "    #     # sc.pl.spatial(pred, img=testset.get_img(ID), color='kmeans', spot_size=112, title=title, save=f\"/SGCL2ST_Her2_{ID}_{ARI:.3f}.pdf\")\n",
    "\n",
    "\n",
    "    #     # clus, Top_ARI = cluster(top_pred_values, label)\n",
    "    #     # print('Fold:', fold, 'Top 100 ARI:', Top_ARI)\n",
    "    #     clus, feature_ARI = cluster(pred_features, label)\n",
    "    #     print('Fold:', fold, 'Expression features ARI:', feature_ARI)\n",
    "    #     title = f\"SGCL2ST {ID} ARI = {feature_ARI:.3f}\"  # Format title with ARI value\n",
    "    #     # sc.pl.spatial(pred_features, img=testset.get_img(ID), color='kmeans', spot_size=112, title=title, save=f\"/SGCL2ST_Her2_{ID}_features_{feature_ARI:.3f}.pdf\")\n",
    "\n",
    "    #     clus, Emb_ARI = cluster(pred_embeddings, label)\n",
    "    #     print('Fold:', fold, 'Expression Embeddings ARI:', Emb_ARI)\n",
    "    #     title = f\"SGCL2ST {ID} ARI = {Emb_ARI:.3f}\"  # Format title with ARI value\n",
    "    #     # sc.pl.spatial(pred_embeddings, img=testset.get_img(ID), color='kmeans', spot_size=112, title = title, save=f\"/SGCL2ST_Her2_{ID}_Emb_{Emb_ARI:.3f}.pdf\")\n",
    "\n",
    "\n",
    "    #     clus, Re_ARI = cluster(pred_reconstruction, label)\n",
    "    #     print('Fold:', fold, 'Reconstruction ARI:', Re_ARI)\n",
    "    #     title = f\"SGCL2ST {ID} ARI = {Re_ARI:.3f}\"  # Format title with ARI value\n",
    "    #     # sc.pl.spatial(pred_reconstruction, img=testset.get_img(ID), color='kmeans', spot_size=112, title = title, save=f\"/SGCL2ST_Her2_{ID}_Reconstruction_{Re_ARI:.3f}.pdf\")\n",
    "\n",
    "    #     # clus, true_ARI = cluster(true, label) # Observed Gene Expression clustering\n",
    "    #     # print('Fold:', fold, 'Observed Gene Expression ARI:', true_ARI)\n",
    "    #     # title = f\"Observed Gene Expression {ID} ARI = {true_ARI:.3f}\"  # Format title with ARI value\n",
    "    #     # sc.pl.spatial(true, img=testset.get_img(ID), color='kmeans', spot_size=112, title = title, save=f\"/SGCL2ST_Her2_{ID}_true_{true_ARI:.3f}.pdf\")\n",
    "\n",
    "\n",
    "    print(\"Result of \", ID, \" ended! \")\n",
    "    print(\"\\n\\n\")\n",
    "\n",
    "\n",
    "    # if save_path != \"\":\n",
    "    #     np.save(save_path + \"matched_spot_embeddings_pred.npy\", matched_spot_embeddings_pred.T)\n",
    "    #     np.save(save_path + \"matched_spot_expression_pred.npy\", matched_spot_expression_pred.T)\n",
    "\n"
   ]
  },
  {
   "cell_type": "code",
   "execution_count": 31,
   "metadata": {
    "executionInfo": {
     "elapsed": 11,
     "status": "aborted",
     "timestamp": 1714665199690,
     "user": {
      "displayName": "Matthew Huang",
      "userId": "00816537668649802899"
     },
     "user_tz": 240
    },
    "id": "oWeeQJSOPASr"
   },
   "outputs": [
    {
     "name": "stdout",
     "output_type": "stream",
     "text": [
      "(613, 785)\n",
      "(613, 785)\n",
      "(613, 256)\n",
      "torch.Size([613, 785])\n"
     ]
    }
   ],
   "source": [
    "print(pred.shape)\n",
    "print(pred_features.shape)\n",
    "print(pred_embeddings.shape)\n",
    "print(pred_reconstruction.shape)"
   ]
  },
  {
   "cell_type": "markdown",
   "metadata": {
    "id": "nu1e3fjnPASs"
   },
   "source": [
    "### Visualization of the predicted gene expression"
   ]
  },
  {
   "cell_type": "code",
   "execution_count": 32,
   "metadata": {
    "executionInfo": {
     "elapsed": 12,
     "status": "aborted",
     "timestamp": 1714665199691,
     "user": {
      "displayName": "Matthew Huang",
      "userId": "00816537668649802899"
     },
     "user_tz": 240
    },
    "id": "A1XcQGnWPASv"
   },
   "outputs": [
    {
     "name": "stdout",
     "output_type": "stream",
     "text": [
      "Begin Processing Image B2\n",
      "image query shape:  (270, 256)\n",
      "expression_gt shape:  (270, 785)\n",
      "finding matches, using weighted average of top 50 expressions\n",
      "dot_similarity.shape = spots * reference_spots =  torch.Size([270, 9841])\n",
      "pred.shape (270, 785)\n",
      "true.shape (270, 785)\n",
      "np.max(pred) 175.4484405517578\n",
      "np.max(true) 222.0\n",
      "np.min(pred) 0.0\n",
      "np.min(true) 0.0\n",
      "Begin Processing Image A6\n",
      "image query shape:  (360, 256)\n",
      "expression_gt shape:  (360, 785)\n",
      "finding matches, using weighted average of top 50 expressions\n",
      "dot_similarity.shape = spots * reference_spots =  torch.Size([360, 9841])\n",
      "pred.shape (360, 785)\n",
      "true.shape (360, 785)\n",
      "np.max(pred) 218.63262939453125\n",
      "np.max(true) 280.0\n",
      "np.min(pred) 0.0\n",
      "np.min(true) 0.0\n",
      "Begin Processing Image D5\n",
      "image query shape:  (306, 256)\n",
      "expression_gt shape:  (306, 785)\n",
      "finding matches, using weighted average of top 50 expressions\n",
      "dot_similarity.shape = spots * reference_spots =  torch.Size([306, 9841])\n",
      "pred.shape (306, 785)\n",
      "true.shape (306, 785)\n",
      "np.max(pred) 223.5318603515625\n",
      "np.max(true) 320.0\n",
      "np.min(pred) 0.0\n",
      "np.min(true) 0.0\n",
      "Begin Processing Image C2\n",
      "image query shape:  (187, 256)\n",
      "expression_gt shape:  (187, 785)\n",
      "finding matches, using weighted average of top 50 expressions\n",
      "dot_similarity.shape = spots * reference_spots =  torch.Size([187, 9841])\n",
      "pred.shape (187, 785)\n",
      "true.shape (187, 785)\n",
      "np.max(pred) 204.6934814453125\n",
      "np.max(true) 368.0\n",
      "np.min(pred) 0.0\n",
      "np.min(true) 0.0\n",
      "Begin Processing Image F2\n",
      "image query shape:  (695, 256)\n",
      "expression_gt shape:  (695, 785)\n",
      "finding matches, using weighted average of top 50 expressions\n",
      "dot_similarity.shape = spots * reference_spots =  torch.Size([695, 9841])\n",
      "pred.shape (695, 785)\n",
      "true.shape (695, 785)\n",
      "np.max(pred) 218.8136749267578\n",
      "np.max(true) 324.0\n",
      "np.min(pred) 0.0\n",
      "np.min(true) 0.0\n",
      "Begin Processing Image C4\n",
      "image query shape:  (184, 256)\n",
      "expression_gt shape:  (184, 785)\n",
      "finding matches, using weighted average of top 50 expressions\n",
      "dot_similarity.shape = spots * reference_spots =  torch.Size([184, 9841])\n",
      "pred.shape (184, 785)\n",
      "true.shape (184, 785)\n",
      "np.max(pred) 137.4927215576172\n",
      "np.max(true) 413.0\n",
      "np.min(pred) 0.0\n",
      "np.min(true) 0.0\n",
      "Begin Processing Image D6\n",
      "image query shape:  (315, 256)\n",
      "expression_gt shape:  (315, 785)\n",
      "finding matches, using weighted average of top 50 expressions\n",
      "dot_similarity.shape = spots * reference_spots =  torch.Size([315, 9841])\n",
      "pred.shape (315, 785)\n",
      "true.shape (315, 785)\n",
      "np.max(pred) 203.09002685546875\n",
      "np.max(true) 371.0\n",
      "np.min(pred) 0.0\n",
      "np.min(true) 0.0\n",
      "Begin Processing Image C3\n",
      "image query shape:  (180, 256)\n",
      "expression_gt shape:  (180, 785)\n",
      "finding matches, using weighted average of top 50 expressions\n",
      "dot_similarity.shape = spots * reference_spots =  torch.Size([180, 9841])\n",
      "pred.shape (180, 785)\n",
      "true.shape (180, 785)\n",
      "np.max(pred) 136.4524688720703\n",
      "np.max(true) 432.0\n",
      "np.min(pred) 0.0\n",
      "np.min(true) 0.0\n",
      "Begin Processing Image C5\n",
      "image query shape:  (181, 256)\n",
      "expression_gt shape:  (181, 785)\n",
      "finding matches, using weighted average of top 50 expressions\n",
      "dot_similarity.shape = spots * reference_spots =  torch.Size([181, 9841])\n",
      "pred.shape (181, 785)\n",
      "true.shape (181, 785)\n",
      "np.max(pred) 129.20237731933594\n",
      "np.max(true) 433.0\n",
      "np.min(pred) 0.0\n",
      "np.min(true) 0.0\n",
      "Begin Processing Image D3\n",
      "image query shape:  (301, 256)\n",
      "expression_gt shape:  (301, 785)\n",
      "finding matches, using weighted average of top 50 expressions\n",
      "dot_similarity.shape = spots * reference_spots =  torch.Size([301, 9841])\n",
      "pred.shape (301, 785)\n",
      "true.shape (301, 785)\n",
      "np.max(pred) 153.70228576660156\n",
      "np.max(true) 318.0\n",
      "np.min(pred) 0.0\n",
      "np.min(true) 0.0\n",
      "Begin Processing Image B6\n",
      "image query shape:  (277, 256)\n",
      "expression_gt shape:  (277, 785)\n",
      "finding matches, using weighted average of top 50 expressions\n",
      "dot_similarity.shape = spots * reference_spots =  torch.Size([277, 9841])\n",
      "pred.shape (277, 785)\n",
      "true.shape (277, 785)\n",
      "np.max(pred) 161.9993896484375\n",
      "np.max(true) 320.0\n",
      "np.min(pred) 0.0\n",
      "np.min(true) 0.0\n",
      "Begin Processing Image H3\n",
      "image query shape:  (510, 256)\n",
      "expression_gt shape:  (510, 785)\n",
      "finding matches, using weighted average of top 50 expressions\n",
      "dot_similarity.shape = spots * reference_spots =  torch.Size([510, 9841])\n",
      "pred.shape (510, 785)\n",
      "true.shape (510, 785)\n",
      "np.max(pred) 201.69613647460938\n",
      "np.max(true) 310.0\n",
      "np.min(pred) 0.0\n",
      "np.min(true) 0.0\n",
      "Begin Processing Image E3\n",
      "image query shape:  (570, 256)\n",
      "expression_gt shape:  (570, 785)\n",
      "finding matches, using weighted average of top 50 expressions\n",
      "dot_similarity.shape = spots * reference_spots =  torch.Size([570, 9841])\n",
      "pred.shape (570, 785)\n",
      "true.shape (570, 785)\n",
      "np.max(pred) 218.033203125\n",
      "np.max(true) 360.0\n",
      "np.min(pred) 0.0\n",
      "np.min(true) 0.0\n",
      "Begin Processing Image E2\n",
      "image query shape:  (572, 256)\n",
      "expression_gt shape:  (572, 785)\n",
      "finding matches, using weighted average of top 50 expressions\n",
      "dot_similarity.shape = spots * reference_spots =  torch.Size([572, 9841])\n",
      "pred.shape (572, 785)\n",
      "true.shape (572, 785)\n",
      "np.max(pred) 246.30337524414062\n",
      "np.max(true) 368.0\n",
      "np.min(pred) 0.0\n",
      "np.min(true) 0.0\n",
      "Begin Processing Image G3\n",
      "image query shape:  (463, 256)\n",
      "expression_gt shape:  (463, 785)\n",
      "finding matches, using weighted average of top 50 expressions\n",
      "dot_similarity.shape = spots * reference_spots =  torch.Size([463, 9841])\n",
      "pred.shape (463, 785)\n",
      "true.shape (463, 785)\n",
      "np.max(pred) 256.56011962890625\n",
      "np.max(true) 331.0\n",
      "np.min(pred) 0.0\n",
      "np.min(true) 0.0\n",
      "Begin Processing Image D4\n",
      "image query shape:  (302, 256)\n",
      "expression_gt shape:  (302, 785)\n",
      "finding matches, using weighted average of top 50 expressions\n",
      "dot_similarity.shape = spots * reference_spots =  torch.Size([302, 9841])\n",
      "pred.shape (302, 785)\n",
      "true.shape (302, 785)\n",
      "np.max(pred) 191.97821044921875\n",
      "np.max(true) 322.0\n",
      "np.min(pred) 0.0\n",
      "np.min(true) 0.0\n",
      "Begin Processing Image D2\n",
      "image query shape:  (303, 256)\n",
      "expression_gt shape:  (303, 785)\n",
      "finding matches, using weighted average of top 50 expressions\n",
      "dot_similarity.shape = spots * reference_spots =  torch.Size([303, 9841])\n",
      "pred.shape (303, 785)\n",
      "true.shape (303, 785)\n",
      "np.max(pred) 234.34083557128906\n",
      "np.max(true) 214.0\n",
      "np.min(pred) 0.0\n",
      "np.min(true) 0.0\n",
      "Begin Processing Image B4\n",
      "image query shape:  (283, 256)\n",
      "expression_gt shape:  (283, 785)\n",
      "finding matches, using weighted average of top 50 expressions\n",
      "dot_similarity.shape = spots * reference_spots =  torch.Size([283, 9841])\n",
      "pred.shape (283, 785)\n",
      "true.shape (283, 785)\n",
      "np.max(pred) 137.8114013671875\n",
      "np.max(true) 311.0\n",
      "np.min(pred) 0.0\n",
      "np.min(true) 0.0\n",
      "Begin Processing Image A5\n",
      "image query shape:  (332, 256)\n",
      "expression_gt shape:  (332, 785)\n",
      "finding matches, using weighted average of top 50 expressions\n",
      "dot_similarity.shape = spots * reference_spots =  torch.Size([332, 9841])\n",
      "pred.shape (332, 785)\n",
      "true.shape (332, 785)\n",
      "np.max(pred) 155.90492248535156\n",
      "np.max(true) 244.0\n",
      "np.min(pred) 0.0\n",
      "np.min(true) 0.0\n",
      "Begin Processing Image A4\n",
      "image query shape:  (343, 256)\n",
      "expression_gt shape:  (343, 785)\n",
      "finding matches, using weighted average of top 50 expressions\n",
      "dot_similarity.shape = spots * reference_spots =  torch.Size([343, 9841])\n",
      "pred.shape (343, 785)\n",
      "true.shape (343, 785)\n",
      "np.max(pred) 180.2567138671875\n",
      "np.max(true) 285.0\n",
      "np.min(pred) 0.0\n",
      "np.min(true) 0.0\n",
      "Begin Processing Image H2\n",
      "image query shape:  (603, 256)\n",
      "expression_gt shape:  (603, 785)\n",
      "finding matches, using weighted average of top 50 expressions\n",
      "dot_similarity.shape = spots * reference_spots =  torch.Size([603, 9841])\n",
      "pred.shape (603, 785)\n",
      "true.shape (603, 785)\n",
      "np.max(pred) 199.49073791503906\n",
      "np.max(true) 333.0\n",
      "np.min(pred) 0.0\n",
      "np.min(true) 0.0\n",
      "Begin Processing Image G1\n",
      "image query shape:  (441, 256)\n",
      "expression_gt shape:  (441, 785)\n",
      "finding matches, using weighted average of top 50 expressions\n",
      "dot_similarity.shape = spots * reference_spots =  torch.Size([441, 9841])\n",
      "pred.shape (441, 785)\n",
      "true.shape (441, 785)\n",
      "np.max(pred) 257.2716369628906\n",
      "np.max(true) 201.0\n",
      "np.min(pred) 0.0\n",
      "np.min(true) 0.0\n",
      "Begin Processing Image F3\n",
      "image query shape:  (712, 256)\n",
      "expression_gt shape:  (712, 785)\n",
      "finding matches, using weighted average of top 50 expressions\n",
      "dot_similarity.shape = spots * reference_spots =  torch.Size([712, 9841])\n",
      "pred.shape (712, 785)\n",
      "true.shape (712, 785)\n",
      "np.max(pred) 171.84881591796875\n",
      "np.max(true) 273.0\n",
      "np.min(pred) 0.0\n",
      "np.min(true) 0.0\n",
      "Begin Processing Image C6\n",
      "image query shape:  (178, 256)\n",
      "expression_gt shape:  (178, 785)\n",
      "finding matches, using weighted average of top 50 expressions\n",
      "dot_similarity.shape = spots * reference_spots =  torch.Size([178, 9841])\n",
      "pred.shape (178, 785)\n",
      "true.shape (178, 785)\n",
      "np.max(pred) 241.5921173095703\n",
      "np.max(true) 362.0\n",
      "np.min(pred) 0.0\n",
      "np.min(true) 0.0\n",
      "Begin Processing Image A2\n",
      "image query shape:  (325, 256)\n",
      "expression_gt shape:  (325, 785)\n",
      "finding matches, using weighted average of top 50 expressions\n",
      "dot_similarity.shape = spots * reference_spots =  torch.Size([325, 9841])\n",
      "pred.shape (325, 785)\n",
      "true.shape (325, 785)\n",
      "np.max(pred) 184.69009399414062\n",
      "np.max(true) 199.0\n",
      "np.min(pred) 0.0\n",
      "np.min(true) 0.0\n",
      "Begin Processing Image A3\n",
      "image query shape:  (359, 256)\n",
      "expression_gt shape:  (359, 785)\n",
      "finding matches, using weighted average of top 50 expressions\n",
      "dot_similarity.shape = spots * reference_spots =  torch.Size([359, 9841])\n",
      "pred.shape (359, 785)\n",
      "true.shape (359, 785)\n",
      "np.max(pred) 205.63275146484375\n",
      "np.max(true) 179.0\n",
      "np.min(pred) 0.0\n",
      "np.min(true) 0.0\n",
      "Begin Processing Image B5\n",
      "image query shape:  (289, 256)\n",
      "expression_gt shape:  (289, 785)\n",
      "finding matches, using weighted average of top 50 expressions\n",
      "dot_similarity.shape = spots * reference_spots =  torch.Size([289, 9841])\n",
      "pred.shape (289, 785)\n",
      "true.shape (289, 785)\n",
      "np.max(pred) 142.90492248535156\n",
      "np.max(true) 244.0\n",
      "np.min(pred) 0.0\n",
      "np.min(true) 0.0\n",
      "Begin Processing Image A1\n",
      "image query shape:  (346, 256)\n",
      "expression_gt shape:  (346, 785)\n",
      "finding matches, using weighted average of top 50 expressions\n",
      "dot_similarity.shape = spots * reference_spots =  torch.Size([346, 9841])\n",
      "pred.shape (346, 785)\n",
      "true.shape (346, 785)\n",
      "np.max(pred) 185.96766662597656\n",
      "np.max(true) 188.0\n",
      "np.min(pred) 0.0\n",
      "np.min(true) 0.0\n",
      "Begin Processing Image B1\n",
      "image query shape:  (295, 256)\n",
      "expression_gt shape:  (295, 785)\n",
      "finding matches, using weighted average of top 50 expressions\n",
      "dot_similarity.shape = spots * reference_spots =  torch.Size([295, 9841])\n",
      "pred.shape (295, 785)\n",
      "true.shape (295, 785)\n",
      "np.max(pred) 143.36239624023438\n",
      "np.max(true) 325.0\n",
      "np.min(pred) 0.0\n",
      "np.min(true) 0.0\n",
      "Begin Processing Image C1\n",
      "image query shape:  (176, 256)\n",
      "expression_gt shape:  (176, 785)\n",
      "finding matches, using weighted average of top 50 expressions\n",
      "dot_similarity.shape = spots * reference_spots =  torch.Size([176, 9841])\n",
      "pred.shape (176, 785)\n",
      "true.shape (176, 785)\n",
      "np.max(pred) 142.27513122558594\n",
      "np.max(true) 360.0\n",
      "np.min(pred) 0.0\n",
      "np.min(true) 0.0\n",
      "Begin Processing Image D1\n",
      "image query shape:  (306, 256)\n",
      "expression_gt shape:  (306, 785)\n",
      "finding matches, using weighted average of top 50 expressions\n",
      "dot_similarity.shape = spots * reference_spots =  torch.Size([306, 9841])\n",
      "pred.shape (306, 785)\n",
      "true.shape (306, 785)\n",
      "np.max(pred) 239.8546600341797\n",
      "np.max(true) 290.0\n",
      "np.min(pred) 0.0\n",
      "np.min(true) 0.0\n",
      "Begin Processing Image E1\n",
      "image query shape:  (587, 256)\n",
      "expression_gt shape:  (587, 785)\n",
      "finding matches, using weighted average of top 50 expressions\n",
      "dot_similarity.shape = spots * reference_spots =  torch.Size([587, 9841])\n",
      "pred.shape (587, 785)\n",
      "true.shape (587, 785)\n",
      "np.max(pred) 196.81834411621094\n",
      "np.max(true) 362.0\n",
      "np.min(pred) 0.0\n",
      "np.min(true) 0.0\n",
      "Begin Processing Image F1\n",
      "image query shape:  (691, 256)\n",
      "expression_gt shape:  (691, 785)\n",
      "finding matches, using weighted average of top 50 expressions\n",
      "dot_similarity.shape = spots * reference_spots =  torch.Size([691, 9841])\n",
      "pred.shape (691, 785)\n",
      "true.shape (691, 785)\n",
      "np.max(pred) 245.615478515625\n",
      "np.max(true) 286.0\n",
      "np.min(pred) 0.0\n",
      "np.min(true) 0.0\n",
      "Begin Processing Image G2\n",
      "image query shape:  (467, 256)\n",
      "expression_gt shape:  (467, 785)\n",
      "finding matches, using weighted average of top 50 expressions\n",
      "dot_similarity.shape = spots * reference_spots =  torch.Size([467, 9841])\n",
      "pred.shape (467, 785)\n",
      "true.shape (467, 785)\n",
      "np.max(pred) 264.163818359375\n",
      "np.max(true) 283.0\n",
      "np.min(pred) 0.0\n",
      "np.min(true) 0.0\n",
      "Begin Processing Image H1\n",
      "image query shape:  (613, 256)\n",
      "expression_gt shape:  (613, 785)\n",
      "finding matches, using weighted average of top 50 expressions\n",
      "dot_similarity.shape = spots * reference_spots =  torch.Size([613, 9841])\n",
      "pred.shape (613, 785)\n",
      "true.shape (613, 785)\n",
      "np.max(pred) 190.4184112548828\n",
      "np.max(true) 373.0\n",
      "np.min(pred) 0.0\n",
      "np.min(true) 0.0\n"
     ]
    }
   ],
   "source": [
    "# Visualization of pred\n",
    "pred_dict = {}\n",
    "true_dict = {}\n",
    "\n",
    "for ID in train_ID + test_ID:\n",
    "# for ID in test_ID:\n",
    "    print(\"Begin Processing Image\", ID)\n",
    "    image_query = image_embeddings_dict[ID]\n",
    "    expression_gt = exp_dict[ID].numpy().T\n",
    "\n",
    "    method = \"weighted_average\" # \"average\" \"weighted_average\"\n",
    "    save_path = \"\"\n",
    "    if image_query.shape[1] != 256:\n",
    "        image_query = image_query.T\n",
    "        print(\"image query shape: \", image_query.shape)\n",
    "    if expression_gt.shape[0] != image_query.shape[0]:\n",
    "        expression_gt = expression_gt.T\n",
    "        print(\"expression_gt shape: \", expression_gt.shape)\n",
    "    if spot_key.shape[1] != 256:\n",
    "        spot_key = spot_key.T\n",
    "        print(\"spot_key shape: \", spot_key.shape)\n",
    "    if expression_key.shape[0] != spot_key.shape[0]:\n",
    "        expression_key = expression_key.T\n",
    "        print(\"expression_key shape: \", expression_key.shape)\n",
    "\n",
    "    if method == \"simple\":\n",
    "        indices = find_matches(spot_key, image_query, top_k=1)\n",
    "        matched_spot_embeddings_pred = spot_key[indices[:,0],:]\n",
    "        print(\"matched spot embeddings pred shape: \", matched_spot_embeddings_pred.shape)\n",
    "        matched_spot_expression_pred = expression_key[indices[:,0],:]\n",
    "        print(\"matched spot expression pred shape: \", matched_spot_expression_pred.shape)\n",
    "\n",
    "    if method == \"average\":\n",
    "        print(\"finding matches, using average of top 50 expressions\")\n",
    "        indices = find_matches(spot_key, image_query, top_k=50)\n",
    "        matched_spot_embeddings_pred = np.zeros((indices.shape[0], spot_key.shape[1]))\n",
    "        matched_spot_expression_pred = np.zeros((indices.shape[0], expression_key.shape[1]))\n",
    "        for i in range(indices.shape[0]):\n",
    "            matched_spot_embeddings_pred[i,:] = np.average(spot_key[indices[i,:],:], axis=0)\n",
    "            matched_spot_expression_pred[i,:] = np.average(expression_key[indices[i,:],:], axis=0)\n",
    "\n",
    "        print(\"matched spot embeddings pred shape: \", matched_spot_embeddings_pred.shape)\n",
    "        print(\"matched spot expression pred shape: \", matched_spot_expression_pred.shape)\n",
    "\n",
    "    if method == \"weighted_average\":\n",
    "        print(\"finding matches, using weighted average of top 50 expressions\")\n",
    "        indices = find_matches(spot_key, image_query, top_k=100)\n",
    "        # print(\"indices = \", indices)\n",
    "        matched_spot_embeddings_pred = np.zeros((indices.shape[0], spot_key.shape[1]))\n",
    "        matched_spot_expression_pred = np.zeros((indices.shape[0], expression_key.shape[1]))\n",
    "        for i in range(indices.shape[0]):\n",
    "            a = np.sum((spot_key[indices[i,0],:] - image_query[i,:])**2) #the smallest MSE\n",
    "            weights = np.exp(-(np.sum((spot_key[indices[i,:],:] - image_query[i,:])**2, axis=1)-a+1))\n",
    "\n",
    "            # if i == 0:\n",
    "            #     print(\"weights: \", weights)\n",
    "            matched_spot_embeddings_pred[i,:] = np.average(spot_key[indices[i,:],:], axis=0, weights=weights)\n",
    "            matched_spot_expression_pred[i,:] = np.average(expression_key[indices[i,:],:], axis=0, weights=weights)\n",
    "\n",
    "        # print(\"matched spot embeddings pred shape: \", matched_spot_embeddings_pred.shape)\n",
    "        # print(\"matched spot expression pred shape: \", matched_spot_expression_pred.shape)\n",
    "\n",
    "    true = expression_gt\n",
    "    pred = matched_spot_expression_pred\n",
    "    adj = adj_dict[ID]\n",
    "\n",
    "    model.eval()\n",
    "\n",
    "    # Create the directory if it doesn't exist\n",
    "    output_dir = './figures/show'\n",
    "    if not os.path.exists(output_dir):\n",
    "        os.makedirs(output_dir)\n",
    "    # Additional subdirectories\n",
    "    subdirs = ['gene', 'clus']\n",
    "    for subdir in subdirs:\n",
    "        subdir_path = os.path.join(output_dir, subdir)\n",
    "        if not os.path.exists(subdir_path):\n",
    "            os.makedirs(subdir_path)\n",
    "\n",
    "    with torch.no_grad():\n",
    "        pred_features = model.spot_encoder(torch.tensor(pred, dtype=torch.float32).cuda(), adj.cuda())\n",
    "        pred_embeddings = model.spot_projection(torch.tensor(pred_features, dtype=torch.float32).cuda())\n",
    "        pred_encoding = model.spot_autoencoder.encode(torch.tensor(pred_embeddings, dtype=torch.float32).cuda(), adj.cuda())\n",
    "        pred_reconstruction, extra = model.spot_autoencoder.decode(torch.tensor(pred_encoding, dtype=torch.float32).cuda())\n",
    "\n",
    "        pred_features = pred_features.cpu().numpy()\n",
    "        pred_embeddings = pred_embeddings.cpu().numpy()\n",
    "        pred_encoding = pred_encoding.cpu().numpy()\n",
    "        pred_reconstruction = pred_reconstruction.cpu().numpy()\n",
    "\n",
    "    print(\"pred.shape\",pred.shape)\n",
    "    print(\"true.shape\",true.shape)\n",
    "    print(\"np.max(pred)\",np.max(pred))\n",
    "    print(\"np.max(true)\",np.max(true))\n",
    "    print(\"np.min(pred)\",np.min(pred))\n",
    "    print(\"np.min(true)\",np.min(true))\n",
    "\n",
    "    pred_dict[ID] = pred\n",
    "    true_dict[ID] = true\n",
    "    ####### Prediction PCC performance\n",
    "    # mix = (pred + pred_reconstruction)/2\n",
    "\n",
    "import pickle\n",
    "# save pred_dict to file\n",
    "output_dir = './clip'\n",
    "if not os.path.exists(output_dir):\n",
    "    os.makedirs(output_dir)\n",
    "\n",
    "# # set save path pred_dict\n",
    "# output_file_path = os.path.join(output_dir, 'pred_dict.pkl')\n",
    "# # use pickle to write pred_dict to file.\n",
    "# with open(output_file_path, 'wb') as file:\n",
    "#     pickle.dump(pred_dict, file)\n",
    "# print(f\"Dictionary saved to {output_file_path}\")\n",
    "\n",
    "# # set save path true_dict\n",
    "# output_file_path = os.path.join(output_dir, 'true_dict.pkl')\n",
    "# # use pickle to write pred_dict to file.\n",
    "# with open(output_file_path, 'wb') as file:\n",
    "#     pickle.dump(true_dict, file)\n",
    "# print(f\"Dictionary saved to {output_file_path}\")\n"
   ]
  },
  {
   "cell_type": "code",
   "execution_count": 33,
   "metadata": {
    "executionInfo": {
     "elapsed": 11,
     "status": "aborted",
     "timestamp": 1714665199691,
     "user": {
      "displayName": "Matthew Huang",
      "userId": "00816537668649802899"
     },
     "user_tz": 240
    },
    "id": "rGDtAmBDPASv"
   },
   "outputs": [],
   "source": [
    "# pred_dict['A1']"
   ]
  },
  {
   "cell_type": "code",
   "execution_count": 34,
   "metadata": {
    "executionInfo": {
     "elapsed": 11,
     "status": "aborted",
     "timestamp": 1714665199691,
     "user": {
      "displayName": "Matthew Huang",
      "userId": "00816537668649802899"
     },
     "user_tz": 240
    },
    "id": "--_ksGUFPASw"
   },
   "outputs": [
    {
     "name": "stdout",
     "output_type": "stream",
     "text": [
      "Processing Image B2\n",
      "Processing Image A6\n",
      "Processing Image D5\n",
      "Processing Image C2\n",
      "Processing Image F2\n",
      "Processing Image C4\n",
      "Processing Image D6\n",
      "Processing Image C3\n",
      "Processing Image C5\n",
      "Processing Image D3\n",
      "Processing Image B6\n",
      "Processing Image H3\n",
      "Processing Image E3\n",
      "Processing Image E2\n",
      "Processing Image G3\n",
      "Processing Image D4\n",
      "Processing Image D2\n",
      "Processing Image B4\n",
      "Processing Image A5\n",
      "Processing Image A4\n",
      "Processing Image H2\n",
      "Processing Image G1\n",
      "Processing Image F3\n",
      "Processing Image C6\n",
      "Processing Image A2\n",
      "Processing Image A3\n",
      "Processing Image B5\n",
      "Processing Image A1\n",
      "Processing Image B1\n",
      "Processing Image C1\n",
      "Processing Image D1\n",
      "Processing Image E1\n",
      "Processing Image F1\n",
      "Processing Image G2\n",
      "Processing Image H1\n",
      "Gene Name: BSG, Average -log10(p-value): 1.5616637478698256\n",
      "Gene Name: CLDN3, Average -log10(p-value): 1.555038102413818\n",
      "Gene Name: GNAS, Average -log10(p-value): 1.5125540991637683\n",
      "Gene Name: IGKC, Average -log10(p-value): 1.4716854625801628\n",
      "Gene Name: IGHG3, Average -log10(p-value): 1.4393516134375415\n",
      "Gene Name: FASN, Average -log10(p-value): 1.4390068401636646\n",
      "Gene Name: HSPB1, Average -log10(p-value): 1.3917876940827376\n",
      "Gene Name: PLK2, Average -log10(p-value): 1.3809514039372726\n",
      "Gene Name: NDUFS1, Average -log10(p-value): 1.3076359813020442\n",
      "Gene Name: ITGB6, Average -log10(p-value): 1.2866746279802042\n",
      "Gene Name: MGP, Average -log10(p-value): 1.2840518008036925\n",
      "Gene Name: IGLC3, Average -log10(p-value): 1.2767075594480122\n",
      "Gene Name: AGR2, Average -log10(p-value): 1.2421095791310977\n",
      "Gene Name: IGHA1, Average -log10(p-value): 1.2302148812568976\n",
      "Gene Name: XPO6, Average -log10(p-value): 1.2092859276897385\n",
      "Gene Name: GATA3, Average -log10(p-value): 1.1954943518763763\n",
      "Gene Name: CLDN4, Average -log10(p-value): 1.191892383945584\n",
      "Gene Name: CPNE1, Average -log10(p-value): 1.1898480820491686\n",
      "Gene Name: KRT8, Average -log10(p-value): 1.1829792776844323\n",
      "Gene Name: FUS, Average -log10(p-value): 1.1712789866551656\n",
      "Gene Name: MYL12B, Average -log10(p-value): 1.1613781323271324\n",
      "Gene Name: GNL2, Average -log10(p-value): 1.152338953303805\n",
      "Gene Name: NDUFB2, Average -log10(p-value): 1.139941354569558\n",
      "Gene Name: SNRPD3, Average -log10(p-value): 1.1367571483282712\n",
      "Gene Name: ZNF217, Average -log10(p-value): 1.1288177498720195\n",
      "Gene Name: PPP1R1B, Average -log10(p-value): 1.1280365558726335\n",
      "Gene Name: ELOF1, Average -log10(p-value): 1.126923623044267\n",
      "Gene Name: HES1, Average -log10(p-value): 1.1218897108690857\n",
      "Gene Name: SOX4, Average -log10(p-value): 1.121267768633246\n",
      "Gene Name: INTS8, Average -log10(p-value): 1.1202520685190338\n",
      "Gene Name: UBAP2L, Average -log10(p-value): 1.1197608829226782\n",
      "Gene Name: IGFBP2, Average -log10(p-value): 1.1167074600615838\n",
      "Gene Name: C3, Average -log10(p-value): 1.1164776109079577\n",
      "Gene Name: FADS2, Average -log10(p-value): 1.1092779283821552\n",
      "Gene Name: DNAJB2, Average -log10(p-value): 1.1059849304080402\n",
      "Gene Name: RHOB, Average -log10(p-value): 1.1009853712778965\n",
      "Gene Name: MRPS22, Average -log10(p-value): 1.099852551456854\n",
      "Gene Name: QSOX1, Average -log10(p-value): 1.0906634618298283\n",
      "Gene Name: TMBIM6, Average -log10(p-value): 1.0904503310327858\n",
      "Gene Name: SLC2A1, Average -log10(p-value): 1.0897610360325682\n",
      "Gene Name: SCD, Average -log10(p-value): 1.087339489822198\n",
      "Gene Name: AKR1A1, Average -log10(p-value): 1.08438623538464\n",
      "Gene Name: ATP6AP1, Average -log10(p-value): 1.0823967037540028\n",
      "Gene Name: DAPK3, Average -log10(p-value): 1.0805596979424221\n",
      "Gene Name: PTOV1, Average -log10(p-value): 1.0775632730202784\n",
      "Gene Name: GANAB, Average -log10(p-value): 1.0531074784471217\n",
      "Gene Name: BTG1, Average -log10(p-value): 1.0529775585004897\n",
      "Gene Name: AGPAT2, Average -log10(p-value): 1.049646609230057\n",
      "Gene Name: IGFBP4, Average -log10(p-value): 1.0492257440219994\n",
      "Gene Name: CAPG, Average -log10(p-value): 1.049181830673001\n"
     ]
    }
   ],
   "source": [
    "from math import log10\n",
    "def get_top_genes(pred_dict, true_dict, num_genes=50):\n",
    "    # Initialize a dictionary to store gene p-values across all images\n",
    "    gene_p_values = {}\n",
    "\n",
    "    # Loop through each image and its predicted expression in pred_dict\n",
    "    for ID, pred in pred_dict.items():\n",
    "        print(\"Processing Image\", ID)\n",
    "        true = true_dict[ID]\n",
    "        # Calculate p-values for each gene in this image\n",
    "        for gene_idx in range(pred.shape[1]):\n",
    "            _, p_value = pearsonr(pred[:, gene_idx], true[:, gene_idx])\n",
    "            if not np.isnan(p_value):  # Only consider valid p-values\n",
    "                if gene_idx not in gene_p_values:\n",
    "                    gene_p_values[gene_idx] = []\n",
    "                gene_p_values[gene_idx].append(p_value)\n",
    "\n",
    "    # Calculate the average -log10(p-value) for each gene across all images\n",
    "    avg_log_p_values = {}\n",
    "    for gene_idx, p_values in gene_p_values.items():\n",
    "        avg_p_value = np.mean(p_values)\n",
    "        avg_log_p_value = -log10(avg_p_value)\n",
    "        avg_log_p_values[gene_idx] = avg_log_p_value\n",
    "\n",
    "    # Sort genes by the average -log10(p-value) and get the top 50\n",
    "    top_genes = sorted(avg_log_p_values, key=avg_log_p_values.get, reverse=True)[:num_genes]\n",
    "\n",
    "    # Return the top genes and their average -log10(p-value)\n",
    "    return [(gene_idx, avg_log_p_values[gene_idx]) for gene_idx in top_genes]\n",
    "\n",
    "# Usage:\n",
    "# Assume testset has an attribute 'gene_set' which is a list of gene names\n",
    "# true_dict is a dictionary with the same keys as pred_dict and contains the true gene expressions\n",
    "\n",
    "# Get top 50 genes based on average -log10(p-value) across all images\n",
    "top_genes_info = get_top_genes(pred_dict, true_dict, num_genes=50)\n",
    "\n",
    "# Print the names and p-values of the top genes\n",
    "for gene_idx, log_p_value in top_genes_info:\n",
    "    gene_name = testset.gene_set[gene_idx]\n",
    "    print(f\"Gene Name: {gene_name}, Average -log10(p-value): {log_p_value}\")\n",
    "\n",
    "# top_genes_info = top_genes_info[:10]\n",
    "# top_genes_list = [testset.gene_set[gene_idx] for gene_idx, _ in top_genes_info]"
   ]
  },
  {
   "cell_type": "code",
   "execution_count": 35,
   "metadata": {
    "executionInfo": {
     "elapsed": 11,
     "status": "aborted",
     "timestamp": 1714665199691,
     "user": {
      "displayName": "Matthew Huang",
      "userId": "00816537668649802899"
     },
     "user_tz": 240
    },
    "id": "A_1-wBWuPASw"
   },
   "outputs": [],
   "source": [
    "top_n_genes_info = top_genes_info[:12]\n",
    "top_n_genes_list = [testset.gene_set[gene_idx] for gene_idx, _ in top_n_genes_info]\n",
    "# top_n_genes_list = ['FN1', 'FASN', 'HLA-DRA', 'CLDN4', 'COL3A1', 'C3', 'GNAS', 'LUM', 'CD74', 'HLA-B', 'MYL12B', 'CCT4']\n",
    "# top_n_genes_list = ['FN1', 'FASN', 'HLA-DRA', 'CLDN4', 'GNAS', 'MYL12B']\n",
    "# index_to_name = {index: name for index, name in enumerate(testset.gene_set)}\n",
    "# top_n_genes_info = [(gene_idx, log_p_value) for gene_idx, log_p_value in top_genes_info if index_to_name[gene_idx] in top_n_genes_list]"
   ]
  },
  {
   "cell_type": "code",
   "execution_count": 36,
   "metadata": {
    "executionInfo": {
     "elapsed": 10,
     "status": "aborted",
     "timestamp": 1714665199691,
     "user": {
      "displayName": "Matthew Huang",
      "userId": "00816537668649802899"
     },
     "user_tz": 240
    },
    "id": "qMpQBUicPASw"
   },
   "outputs": [
    {
     "name": "stdout",
     "output_type": "stream",
     "text": [
      "top_n_genes_list: ['BSG', 'CLDN3', 'GNAS', 'IGKC', 'IGHG3', 'FASN', 'HSPB1', 'PLK2', 'NDUFS1', 'ITGB6', 'MGP', 'IGLC3']\n",
      "403\n",
      "Gene: BSG, Best R: 0.4403072695090306, p-value: 2.026585464170368e-15, Image ID: B1\n"
     ]
    },
    {
     "ename": "ValueError",
     "evalue": "Value passed for key 'spatial' is of incorrect shape. Values of obsm must match dimensions (0,) of parent. Value had shape (1,) while it should have had (295,).",
     "output_type": "error",
     "traceback": [
      "\u001b[0;31m---------------------------------------------------------------------------\u001b[0m",
      "\u001b[0;31mValueError\u001b[0m                                Traceback (most recent call last)",
      "Cell \u001b[0;32mIn[36], line 51\u001b[0m\n\u001b[1;32m     48\u001b[0m         file_path \u001b[38;5;241m=\u001b[39m \u001b[38;5;124mf\u001b[39m\u001b[38;5;124m\"\u001b[39m\u001b[38;5;124m/gene/\u001b[39m\u001b[38;5;132;01m{\u001b[39;00mID\u001b[38;5;132;01m}\u001b[39;00m\u001b[38;5;124m_\u001b[39m\u001b[38;5;132;01m{\u001b[39;00mgene_name\u001b[38;5;132;01m}\u001b[39;00m\u001b[38;5;124m_Observed Gene Expression.pdf\u001b[39m\u001b[38;5;124m\"\u001b[39m\n\u001b[1;32m     49\u001b[0m         \u001b[38;5;66;03m# sc.pl.spatial(pred_gene, img=testset.get_img(ID), color=gene_name, spot_size=112, title=title, color_map='magma', save=file_path)\u001b[39;00m\n\u001b[0;32m---> 51\u001b[0m calculate_and_save_top_genes(pred_dict, true_dict, testset)\n",
      "Cell \u001b[0;32mIn[36], line 34\u001b[0m, in \u001b[0;36mcalculate_and_save_top_genes\u001b[0;34m(pred_dict, true_dict, testset)\u001b[0m\n\u001b[1;32m     31\u001b[0m \u001b[38;5;28mprint\u001b[39m(\u001b[38;5;124mf\u001b[39m\u001b[38;5;124m\"\u001b[39m\u001b[38;5;124mGene: \u001b[39m\u001b[38;5;132;01m{\u001b[39;00mgene_name\u001b[38;5;132;01m}\u001b[39;00m\u001b[38;5;124m, Best R: \u001b[39m\u001b[38;5;132;01m{\u001b[39;00mR\u001b[38;5;132;01m}\u001b[39;00m\u001b[38;5;124m, p-value: \u001b[39m\u001b[38;5;132;01m{\u001b[39;00mp_value\u001b[38;5;132;01m}\u001b[39;00m\u001b[38;5;124m, Image ID: \u001b[39m\u001b[38;5;132;01m{\u001b[39;00mID\u001b[38;5;132;01m}\u001b[39;00m\u001b[38;5;124m\"\u001b[39m)\n\u001b[1;32m     33\u001b[0m pred_gene \u001b[38;5;241m=\u001b[39m sc\u001b[38;5;241m.\u001b[39mAnnData(pred_dict[ID])\n\u001b[0;32m---> 34\u001b[0m pred_gene\u001b[38;5;241m.\u001b[39mobsm[\u001b[38;5;124m'\u001b[39m\u001b[38;5;124mspatial\u001b[39m\u001b[38;5;124m'\u001b[39m] \u001b[38;5;241m=\u001b[39m center_dict[ID]\n\u001b[1;32m     35\u001b[0m true_gene \u001b[38;5;241m=\u001b[39m sc\u001b[38;5;241m.\u001b[39mAnnData(true_dict[ID])\n\u001b[1;32m     36\u001b[0m true_gene\u001b[38;5;241m.\u001b[39mobsm[\u001b[38;5;124m'\u001b[39m\u001b[38;5;124mspatial\u001b[39m\u001b[38;5;124m'\u001b[39m] \u001b[38;5;241m=\u001b[39m center_dict[ID]\n",
      "File \u001b[0;32m~/anaconda3/envs/ST/lib/python3.11/site-packages/anndata/_core/aligned_mapping.py:195\u001b[0m, in \u001b[0;36mAlignedActualMixin.__setitem__\u001b[0;34m(self, key, value)\u001b[0m\n\u001b[1;32m    194\u001b[0m \u001b[38;5;28;01mdef\u001b[39;00m \u001b[38;5;21m__setitem__\u001b[39m(\u001b[38;5;28mself\u001b[39m, key: \u001b[38;5;28mstr\u001b[39m, value: V):\n\u001b[0;32m--> 195\u001b[0m     value \u001b[38;5;241m=\u001b[39m \u001b[38;5;28mself\u001b[39m\u001b[38;5;241m.\u001b[39m_validate_value(value, key)\n\u001b[1;32m    196\u001b[0m     \u001b[38;5;28mself\u001b[39m\u001b[38;5;241m.\u001b[39m_data[key] \u001b[38;5;241m=\u001b[39m value\n",
      "File \u001b[0;32m~/anaconda3/envs/ST/lib/python3.11/site-packages/anndata/_core/aligned_mapping.py:264\u001b[0m, in \u001b[0;36mAxisArraysBase._validate_value\u001b[0;34m(self, val, key)\u001b[0m\n\u001b[1;32m    262\u001b[0m         msg \u001b[38;5;241m=\u001b[39m \u001b[38;5;124m\"\u001b[39m\u001b[38;5;124mIndex.equals and pd.testing.assert_index_equal disagree\u001b[39m\u001b[38;5;124m\"\u001b[39m\n\u001b[1;32m    263\u001b[0m         \u001b[38;5;28;01mraise\u001b[39;00m \u001b[38;5;167;01mAssertionError\u001b[39;00m(msg)\n\u001b[0;32m--> 264\u001b[0m \u001b[38;5;28;01mreturn\u001b[39;00m \u001b[38;5;28msuper\u001b[39m()\u001b[38;5;241m.\u001b[39m_validate_value(val, key)\n",
      "File \u001b[0;32m~/anaconda3/envs/ST/lib/python3.11/site-packages/anndata/_core/aligned_mapping.py:80\u001b[0m, in \u001b[0;36mAlignedMapping._validate_value\u001b[0;34m(self, val, key)\u001b[0m\n\u001b[1;32m     75\u001b[0m             \u001b[38;5;28;01mraise\u001b[39;00m \u001b[38;5;167;01mValueError\u001b[39;00m(\n\u001b[1;32m     76\u001b[0m                 \u001b[38;5;124mf\u001b[39m\u001b[38;5;124m\"\u001b[39m\u001b[38;5;124mThe AwkwardArray is of variable length in dimension \u001b[39m\u001b[38;5;132;01m{\u001b[39;00mi\u001b[38;5;132;01m}\u001b[39;00m\u001b[38;5;124m.\u001b[39m\u001b[38;5;124m\"\u001b[39m,\n\u001b[1;32m     77\u001b[0m                 \u001b[38;5;124mf\u001b[39m\u001b[38;5;124m\"\u001b[39m\u001b[38;5;124mTry ak.to_regular(array, \u001b[39m\u001b[38;5;132;01m{\u001b[39;00mi\u001b[38;5;132;01m}\u001b[39;00m\u001b[38;5;124m) before including the array in AnnData\u001b[39m\u001b[38;5;124m\"\u001b[39m,\n\u001b[1;32m     78\u001b[0m             )\n\u001b[1;32m     79\u001b[0m         \u001b[38;5;28;01melse\u001b[39;00m:\n\u001b[0;32m---> 80\u001b[0m             \u001b[38;5;28;01mraise\u001b[39;00m \u001b[38;5;167;01mValueError\u001b[39;00m(\n\u001b[1;32m     81\u001b[0m                 \u001b[38;5;124mf\u001b[39m\u001b[38;5;124m\"\u001b[39m\u001b[38;5;124mValue passed for key \u001b[39m\u001b[38;5;132;01m{\u001b[39;00mkey\u001b[38;5;132;01m!r}\u001b[39;00m\u001b[38;5;124m is of incorrect shape. \u001b[39m\u001b[38;5;124m\"\u001b[39m\n\u001b[1;32m     82\u001b[0m                 \u001b[38;5;124mf\u001b[39m\u001b[38;5;124m\"\u001b[39m\u001b[38;5;124mValues of \u001b[39m\u001b[38;5;132;01m{\u001b[39;00m\u001b[38;5;28mself\u001b[39m\u001b[38;5;241m.\u001b[39mattrname\u001b[38;5;132;01m}\u001b[39;00m\u001b[38;5;124m must match dimensions \u001b[39m\u001b[38;5;124m\"\u001b[39m\n\u001b[1;32m     83\u001b[0m                 \u001b[38;5;124mf\u001b[39m\u001b[38;5;124m\"\u001b[39m\u001b[38;5;132;01m{\u001b[39;00m\u001b[38;5;28mself\u001b[39m\u001b[38;5;241m.\u001b[39maxes\u001b[38;5;132;01m}\u001b[39;00m\u001b[38;5;124m of parent. Value had shape \u001b[39m\u001b[38;5;132;01m{\u001b[39;00mactual_shape\u001b[38;5;132;01m}\u001b[39;00m\u001b[38;5;124m while \u001b[39m\u001b[38;5;124m\"\u001b[39m\n\u001b[1;32m     84\u001b[0m                 \u001b[38;5;124mf\u001b[39m\u001b[38;5;124m\"\u001b[39m\u001b[38;5;124mit should have had \u001b[39m\u001b[38;5;132;01m{\u001b[39;00mright_shape\u001b[38;5;132;01m}\u001b[39;00m\u001b[38;5;124m.\u001b[39m\u001b[38;5;124m\"\u001b[39m\n\u001b[1;32m     85\u001b[0m             )\n\u001b[1;32m     87\u001b[0m \u001b[38;5;28;01mif\u001b[39;00m \u001b[38;5;129;01mnot\u001b[39;00m \u001b[38;5;28mself\u001b[39m\u001b[38;5;241m.\u001b[39m_allow_df \u001b[38;5;129;01mand\u001b[39;00m \u001b[38;5;28misinstance\u001b[39m(val, pd\u001b[38;5;241m.\u001b[39mDataFrame):\n\u001b[1;32m     88\u001b[0m     name \u001b[38;5;241m=\u001b[39m \u001b[38;5;28mself\u001b[39m\u001b[38;5;241m.\u001b[39mattrname\u001b[38;5;241m.\u001b[39mtitle()\u001b[38;5;241m.\u001b[39mrstrip(\u001b[38;5;124m\"\u001b[39m\u001b[38;5;124ms\u001b[39m\u001b[38;5;124m\"\u001b[39m)\n",
      "\u001b[0;31mValueError\u001b[0m: Value passed for key 'spatial' is of incorrect shape. Values of obsm must match dimensions (0,) of parent. Value had shape (1,) while it should have had (295,)."
     ]
    }
   ],
   "source": [
    "print(\"top_n_genes_list:\", top_n_genes_list)\n",
    "\n",
    "# 计算并保存前6个基因的信息\n",
    "def calculate_and_save_top_genes(pred_dict, true_dict, testset):\n",
    "    # # 从 get_top_genes 函数获取基因信息\n",
    "    # top_genes_info = get_top_genes(pred_dict, true_dict, num_genes=num_genes)\n",
    "    # top_6_genes_info = top_genes_info[:6]  # 取前6个基因的信息\n",
    "\n",
    "    # 遍历所有图像ID，计算相关系数和p值\n",
    "    gene_correlations = {gene_idx: [] for gene_idx, _ in top_n_genes_info}\n",
    "    for ID in test_ID:\n",
    "        pred = pred_dict[ID]\n",
    "        true = true_dict[ID]\n",
    "        for gene_idx, _ in top_n_genes_info:\n",
    "            if not np.isnan(pred).any() and not np.isnan(true).any():\n",
    "                R, p_value = pearsonr(pred[:, gene_idx], true[:, gene_idx])\n",
    "                gene_correlations[gene_idx].append((R, p_value, ID))\n",
    "\n",
    "    # # 确保保存图像的目录存在\n",
    "    # output_dir = './figures/gene'\n",
    "    # if not os.path.exists(output_dir):\n",
    "    #     os.makedirs(output_dir)\n",
    "\n",
    "    # 为每个基因选择最佳的图像ID并保存图像\n",
    "    for gene_idx, _ in top_n_genes_info:\n",
    "        print(gene_idx)\n",
    "        # 找到相关系数最高的记录\n",
    "        best_record = max(gene_correlations[gene_idx], key=lambda x: x[0])\n",
    "        R, p_value, ID = best_record\n",
    "        gene_name = testset.gene_set[gene_idx]\n",
    "        print(f\"Gene: {gene_name}, Best R: {R}, p-value: {p_value}, Image ID: {ID}\")\n",
    "\n",
    "        pred_gene = sc.AnnData(pred_dict[ID])\n",
    "        pred_gene.obsm['spatial'] = center_dict[ID]\n",
    "        true_gene = sc.AnnData(true_dict[ID])\n",
    "        true_gene.obsm['spatial'] = center_dict[ID]\n",
    "        if data == \"her2st\":\n",
    "            pred_gene.var_names = list(np.load('data/her_hvg_cut_1000.npy',allow_pickle=True))\n",
    "            true_gene.var_names = list(np.load('data/her_hvg_cut_1000.npy',allow_pickle=True))\n",
    "        elif data == \"cscc\":\n",
    "            pred_gene.var_names = list(np.load('data/skin_hvg_cut_1000.npy',allow_pickle=True))\n",
    "            true_gene.var_names = list(np.load('data/skin_hvg_cut_1000.npy',allow_pickle=True))\n",
    "        title = f\"ID {ID} Gene: {gene_name} R = {R:.3f}\"\n",
    "        file_path = f\"/gene/{ID}_{gene_name}_{R:.3f}.pdf\"\n",
    "        # sc.pl.spatial(pred_gene, img=testset.get_img(ID), color=gene_name, spot_size=112, title=title, color_map='magma', save=file_path)\n",
    "\n",
    "        title = f\"ID {ID} Gene: {gene_name} Observed Gene Expression\"\n",
    "        file_path = f\"/gene/{ID}_{gene_name}_Observed Gene Expression.pdf\"\n",
    "        # sc.pl.spatial(pred_gene, img=testset.get_img(ID), color=gene_name, spot_size=112, title=title, color_map='magma', save=file_path)\n",
    "\n",
    "calculate_and_save_top_genes(pred_dict, true_dict, testset)\n"
   ]
  }
 ],
 "metadata": {
  "accelerator": "GPU",
  "colab": {
   "gpuType": "L4",
   "machine_shape": "hm",
   "provenance": []
  },
  "kernelspec": {
   "display_name": "ST",
   "language": "python",
   "name": "st"
  },
  "language_info": {
   "codemirror_mode": {
    "name": "ipython",
    "version": 3
   },
   "file_extension": ".py",
   "mimetype": "text/x-python",
   "name": "python",
   "nbconvert_exporter": "python",
   "pygments_lexer": "ipython3",
   "version": "3.11.5"
  }
 },
 "nbformat": 4,
 "nbformat_minor": 4
}
